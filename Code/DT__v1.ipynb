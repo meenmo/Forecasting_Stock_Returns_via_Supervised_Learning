{
 "cells": [
  {
   "cell_type": "code",
   "execution_count": 107,
   "metadata": {},
   "outputs": [],
   "source": [
    "import pandas as pd\n",
    "import numpy as np\n",
    "import datetime\n",
    "import gc\n",
    "from sklearn.ensemble import RandomForestRegressor\n",
    "from sklearn.metrics import mean_squared_error"
   ]
  },
  {
   "cell_type": "markdown",
   "metadata": {},
   "source": [
    "### Clean Data"
   ]
  },
  {
   "cell_type": "code",
   "execution_count": 91,
   "metadata": {},
   "outputs": [
    {
     "data": {
      "text/html": [
       "<div>\n",
       "<style scoped>\n",
       "    .dataframe tbody tr th:only-of-type {\n",
       "        vertical-align: middle;\n",
       "    }\n",
       "\n",
       "    .dataframe tbody tr th {\n",
       "        vertical-align: top;\n",
       "    }\n",
       "\n",
       "    .dataframe thead th {\n",
       "        text-align: right;\n",
       "    }\n",
       "</style>\n",
       "<table border=\"1\" class=\"dataframe\">\n",
       "  <thead>\n",
       "    <tr style=\"text-align: right;\">\n",
       "      <th></th>\n",
       "      <th>date</th>\n",
       "      <th>Ticker</th>\n",
       "      <th>open</th>\n",
       "      <th>close</th>\n",
       "      <th>low</th>\n",
       "      <th>high</th>\n",
       "      <th>volume</th>\n",
       "    </tr>\n",
       "  </thead>\n",
       "  <tbody>\n",
       "    <tr>\n",
       "      <th>0</th>\n",
       "      <td>2010-01-04</td>\n",
       "      <td>AAL</td>\n",
       "      <td>4.840000</td>\n",
       "      <td>4.770000</td>\n",
       "      <td>4.660000</td>\n",
       "      <td>4.940000</td>\n",
       "      <td>9837300</td>\n",
       "    </tr>\n",
       "    <tr>\n",
       "      <th>1</th>\n",
       "      <td>2010-01-04</td>\n",
       "      <td>AAP</td>\n",
       "      <td>40.700001</td>\n",
       "      <td>40.380001</td>\n",
       "      <td>40.360001</td>\n",
       "      <td>41.040001</td>\n",
       "      <td>1701700</td>\n",
       "    </tr>\n",
       "    <tr>\n",
       "      <th>2</th>\n",
       "      <td>2010-01-04</td>\n",
       "      <td>AAPL</td>\n",
       "      <td>30.490000</td>\n",
       "      <td>30.572857</td>\n",
       "      <td>30.340000</td>\n",
       "      <td>30.642857</td>\n",
       "      <td>123432400</td>\n",
       "    </tr>\n",
       "    <tr>\n",
       "      <th>3</th>\n",
       "      <td>2010-01-04</td>\n",
       "      <td>ABC</td>\n",
       "      <td>26.290001</td>\n",
       "      <td>26.629999</td>\n",
       "      <td>26.139999</td>\n",
       "      <td>26.690001</td>\n",
       "      <td>2455900</td>\n",
       "    </tr>\n",
       "    <tr>\n",
       "      <th>4</th>\n",
       "      <td>2010-01-04</td>\n",
       "      <td>ABT</td>\n",
       "      <td>26.000339</td>\n",
       "      <td>26.129884</td>\n",
       "      <td>25.870792</td>\n",
       "      <td>26.177866</td>\n",
       "      <td>10829000</td>\n",
       "    </tr>\n",
       "  </tbody>\n",
       "</table>\n",
       "</div>"
      ],
      "text/plain": [
       "        date Ticker       open      close        low       high     volume\n",
       "0 2010-01-04    AAL   4.840000   4.770000   4.660000   4.940000    9837300\n",
       "1 2010-01-04    AAP  40.700001  40.380001  40.360001  41.040001    1701700\n",
       "2 2010-01-04   AAPL  30.490000  30.572857  30.340000  30.642857  123432400\n",
       "3 2010-01-04    ABC  26.290001  26.629999  26.139999  26.690001    2455900\n",
       "4 2010-01-04    ABT  26.000339  26.129884  25.870792  26.177866   10829000"
      ]
     },
     "execution_count": 91,
     "metadata": {},
     "output_type": "execute_result"
    }
   ],
   "source": [
    "# read in our data\n",
    "url = \"https://raw.githubusercontent.com/SamIlic/Stat479_Project/master/Data/prices.csv\"\n",
    "df_features = pd.read_csv(url)\n",
    "\n",
    "df_features['date'] = pd.to_datetime(df_features['date'])\n",
    "df_features.head()"
   ]
  },
  {
   "cell_type": "code",
   "execution_count": 92,
   "metadata": {
    "collapsed": true
   },
   "outputs": [],
   "source": [
    "### Create Lag Features\n",
    "# this is exactly what the book does for create_lag_features from chapter 29\n",
    "def create_lag_features(df, lag_days):\n",
    "    df_ret = df.copy()\n",
    "    \n",
    "    # iterate through the lag days to generate lag values up to lag_days + 1\n",
    "    for i in range(1,lag_days + 2):\n",
    "        df_lag = df_ret[['date', 'Ticker', 'close']].copy()\n",
    "        # generate dataframe to shift index by i day. 415 is number of stocks\n",
    "        df_lag['date'] = df_lag['date'].shift(-i*415)\n",
    "        df_lag.columns = ['date', 'Ticker', 'value_lag' + str(i)]\n",
    "        # combine the valuelag\n",
    "        df_ret = pd.merge(df_ret, df_lag, how = 'left', left_on = ['date', 'Ticker'], right_on = ['date', 'Ticker'])\n",
    "    \n",
    "    #frees memory\n",
    "    del df_lag\n",
    "    \n",
    "    # calculate today's percentage lag\n",
    "    df_ret['Today'] = (df_ret['close'] - df_ret['value_lag1'])/(df_ret['value_lag1']) * 100.0 \n",
    "    \n",
    "    # calculate percentage lag\n",
    "    for i in range(1, lag_days + 1):\n",
    "        df_ret['lag' + str(i)] = (df_ret['value_lag'+ str(i)] - df_ret['value_lag'+ str(i+1)])/(df_ret['value_lag'+str(i+1)]) * 100.0\n",
    "    \n",
    "    # drop unneeded columns which are value_lags\n",
    "    for i in range(1, lag_days + 2):\n",
    "        df_ret.drop(['value_lag' + str(i)], axis = 1, inplace = True)\n",
    "                                                                                                                                                                                                                                                                                                                                     \n",
    "    return df_ret"
   ]
  },
  {
   "cell_type": "code",
   "execution_count": 93,
   "metadata": {},
   "outputs": [
    {
     "data": {
      "text/html": [
       "<div>\n",
       "<style scoped>\n",
       "    .dataframe tbody tr th:only-of-type {\n",
       "        vertical-align: middle;\n",
       "    }\n",
       "\n",
       "    .dataframe tbody tr th {\n",
       "        vertical-align: top;\n",
       "    }\n",
       "\n",
       "    .dataframe thead th {\n",
       "        text-align: right;\n",
       "    }\n",
       "</style>\n",
       "<table border=\"1\" class=\"dataframe\">\n",
       "  <thead>\n",
       "    <tr style=\"text-align: right;\">\n",
       "      <th></th>\n",
       "      <th>date</th>\n",
       "      <th>Ticker</th>\n",
       "      <th>open</th>\n",
       "      <th>close</th>\n",
       "      <th>low</th>\n",
       "      <th>high</th>\n",
       "      <th>volume</th>\n",
       "      <th>Today</th>\n",
       "      <th>lag1</th>\n",
       "      <th>lag2</th>\n",
       "      <th>lag3</th>\n",
       "      <th>lag4</th>\n",
       "      <th>lag5</th>\n",
       "    </tr>\n",
       "  </thead>\n",
       "  <tbody>\n",
       "    <tr>\n",
       "      <th>2</th>\n",
       "      <td>2010-01-04</td>\n",
       "      <td>AAPL</td>\n",
       "      <td>30.490000</td>\n",
       "      <td>30.572857</td>\n",
       "      <td>30.340000</td>\n",
       "      <td>30.642857</td>\n",
       "      <td>123432400</td>\n",
       "      <td>NaN</td>\n",
       "      <td>NaN</td>\n",
       "      <td>NaN</td>\n",
       "      <td>NaN</td>\n",
       "      <td>NaN</td>\n",
       "      <td>NaN</td>\n",
       "    </tr>\n",
       "    <tr>\n",
       "      <th>417</th>\n",
       "      <td>2010-01-05</td>\n",
       "      <td>AAPL</td>\n",
       "      <td>30.657143</td>\n",
       "      <td>30.625713</td>\n",
       "      <td>30.464285</td>\n",
       "      <td>30.798571</td>\n",
       "      <td>150476200</td>\n",
       "      <td>0.172887</td>\n",
       "      <td>NaN</td>\n",
       "      <td>NaN</td>\n",
       "      <td>NaN</td>\n",
       "      <td>NaN</td>\n",
       "      <td>NaN</td>\n",
       "    </tr>\n",
       "    <tr>\n",
       "      <th>832</th>\n",
       "      <td>2010-01-06</td>\n",
       "      <td>AAPL</td>\n",
       "      <td>30.625713</td>\n",
       "      <td>30.138571</td>\n",
       "      <td>30.107143</td>\n",
       "      <td>30.747143</td>\n",
       "      <td>138040000</td>\n",
       "      <td>-1.590633</td>\n",
       "      <td>0.172887</td>\n",
       "      <td>NaN</td>\n",
       "      <td>NaN</td>\n",
       "      <td>NaN</td>\n",
       "      <td>NaN</td>\n",
       "    </tr>\n",
       "    <tr>\n",
       "      <th>1247</th>\n",
       "      <td>2010-01-07</td>\n",
       "      <td>AAPL</td>\n",
       "      <td>30.250000</td>\n",
       "      <td>30.082857</td>\n",
       "      <td>29.864286</td>\n",
       "      <td>30.285715</td>\n",
       "      <td>119282800</td>\n",
       "      <td>-0.184858</td>\n",
       "      <td>-1.590633</td>\n",
       "      <td>0.172887</td>\n",
       "      <td>NaN</td>\n",
       "      <td>NaN</td>\n",
       "      <td>NaN</td>\n",
       "    </tr>\n",
       "    <tr>\n",
       "      <th>1662</th>\n",
       "      <td>2010-01-08</td>\n",
       "      <td>AAPL</td>\n",
       "      <td>30.042856</td>\n",
       "      <td>30.282858</td>\n",
       "      <td>29.865715</td>\n",
       "      <td>30.285715</td>\n",
       "      <td>111902700</td>\n",
       "      <td>0.664833</td>\n",
       "      <td>-0.184858</td>\n",
       "      <td>-1.590633</td>\n",
       "      <td>0.172887</td>\n",
       "      <td>NaN</td>\n",
       "      <td>NaN</td>\n",
       "    </tr>\n",
       "    <tr>\n",
       "      <th>2077</th>\n",
       "      <td>2010-01-11</td>\n",
       "      <td>AAPL</td>\n",
       "      <td>30.400000</td>\n",
       "      <td>30.015715</td>\n",
       "      <td>29.778572</td>\n",
       "      <td>30.428572</td>\n",
       "      <td>115557400</td>\n",
       "      <td>-0.882160</td>\n",
       "      <td>0.664833</td>\n",
       "      <td>-0.184858</td>\n",
       "      <td>-1.590633</td>\n",
       "      <td>0.172887</td>\n",
       "      <td>NaN</td>\n",
       "    </tr>\n",
       "    <tr>\n",
       "      <th>2492</th>\n",
       "      <td>2010-01-12</td>\n",
       "      <td>AAPL</td>\n",
       "      <td>29.884285</td>\n",
       "      <td>29.674286</td>\n",
       "      <td>29.488571</td>\n",
       "      <td>29.967142</td>\n",
       "      <td>148614900</td>\n",
       "      <td>-1.137500</td>\n",
       "      <td>-0.882160</td>\n",
       "      <td>0.664833</td>\n",
       "      <td>-0.184858</td>\n",
       "      <td>-1.590633</td>\n",
       "      <td>0.172887</td>\n",
       "    </tr>\n",
       "  </tbody>\n",
       "</table>\n",
       "</div>"
      ],
      "text/plain": [
       "           date Ticker       open      close        low       high     volume  \\\n",
       "2    2010-01-04   AAPL  30.490000  30.572857  30.340000  30.642857  123432400   \n",
       "417  2010-01-05   AAPL  30.657143  30.625713  30.464285  30.798571  150476200   \n",
       "832  2010-01-06   AAPL  30.625713  30.138571  30.107143  30.747143  138040000   \n",
       "1247 2010-01-07   AAPL  30.250000  30.082857  29.864286  30.285715  119282800   \n",
       "1662 2010-01-08   AAPL  30.042856  30.282858  29.865715  30.285715  111902700   \n",
       "2077 2010-01-11   AAPL  30.400000  30.015715  29.778572  30.428572  115557400   \n",
       "2492 2010-01-12   AAPL  29.884285  29.674286  29.488571  29.967142  148614900   \n",
       "\n",
       "         Today      lag1      lag2      lag3      lag4      lag5  \n",
       "2          NaN       NaN       NaN       NaN       NaN       NaN  \n",
       "417   0.172887       NaN       NaN       NaN       NaN       NaN  \n",
       "832  -1.590633  0.172887       NaN       NaN       NaN       NaN  \n",
       "1247 -0.184858 -1.590633  0.172887       NaN       NaN       NaN  \n",
       "1662  0.664833 -0.184858 -1.590633  0.172887       NaN       NaN  \n",
       "2077 -0.882160  0.664833 -0.184858 -1.590633  0.172887       NaN  \n",
       "2492 -1.137500 -0.882160  0.664833 -0.184858 -1.590633  0.172887  "
      ]
     },
     "execution_count": 93,
     "metadata": {},
     "output_type": "execute_result"
    }
   ],
   "source": [
    "df_features = create_lag_features(df_features, 5) # 5 lag features\n",
    "\n",
    "# Sanity Check\n",
    "df_temp = df_features.loc[df_features['Ticker'] == \"AAPL\"]\n",
    "df_temp.head(7)"
   ]
  },
  {
   "cell_type": "code",
   "execution_count": 12,
   "metadata": {
    "collapsed": true
   },
   "outputs": [],
   "source": [
    "# drop earlier data with missing lag features\n",
    "df_features.dropna(inplace=True)\n",
    "\n",
    "# finds all unique stocks\n",
    "uniq_stocks = set(df_features['Ticker'])"
   ]
  },
  {
   "cell_type": "markdown",
   "metadata": {},
   "source": [
    "### DT Model"
   ]
  },
  {
   "cell_type": "markdown",
   "metadata": {},
   "source": [
    "#### Train-Test Split\n",
    "\n",
    "READ THIS - https://machinelearningmastery.com/backtest-machine-learning-models-time-series-forecasting/\n",
    "\n",
    "1) __Train-Test__ split that respect temporal order of observations.  \n",
    "2) __Multiple Train-Test__ splits that respect temporal order of observations.  \n",
    "3) __Walk-Forward Validation__ where a model may be updated each time step new data is received.  "
   ]
  },
  {
   "cell_type": "code",
   "execution_count": 81,
   "metadata": {},
   "outputs": [],
   "source": [
    "# training data is anything less than 2016\n",
    "X_train = df_features.loc[(df_features['date'] < '2016-01-01'),:]\n",
    "y_train = X_train['Today']\n",
    "\n",
    "# testing data is 2016\n",
    "X_test = df_features.loc[(df_features['date'] > '2015-12-31'), :]\n",
    "y_test = X_test['Today']\n",
    "\n",
    "### Drop columns\n",
    "## Train\n",
    "# sam might need these column for feature engineering\n",
    "X_train.drop(['open','close','low','high','Today'], axis = 1, inplace = True)\n",
    "## Test\n",
    "# sam might need these column for feature engineering\n",
    "X_test.drop(['open','close','low','high','Today'], axis = 1, inplace = True)"
   ]
  },
  {
   "cell_type": "code",
   "execution_count": 82,
   "metadata": {},
   "outputs": [
    {
     "data": {
      "text/html": [
       "<div>\n",
       "<style scoped>\n",
       "    .dataframe tbody tr th:only-of-type {\n",
       "        vertical-align: middle;\n",
       "    }\n",
       "\n",
       "    .dataframe tbody tr th {\n",
       "        vertical-align: top;\n",
       "    }\n",
       "\n",
       "    .dataframe thead th {\n",
       "        text-align: right;\n",
       "    }\n",
       "</style>\n",
       "<table border=\"1\" class=\"dataframe\">\n",
       "  <thead>\n",
       "    <tr style=\"text-align: right;\">\n",
       "      <th></th>\n",
       "      <th>date</th>\n",
       "      <th>Ticker</th>\n",
       "      <th>volume</th>\n",
       "      <th>lag1</th>\n",
       "      <th>lag2</th>\n",
       "      <th>lag3</th>\n",
       "      <th>lag4</th>\n",
       "      <th>lag5</th>\n",
       "    </tr>\n",
       "  </thead>\n",
       "  <tbody>\n",
       "    <tr>\n",
       "      <th>2490</th>\n",
       "      <td>2010-01-19</td>\n",
       "      <td>AAL</td>\n",
       "      <td>7807700</td>\n",
       "      <td>-1.610018</td>\n",
       "      <td>2.007299</td>\n",
       "      <td>7.874016</td>\n",
       "      <td>0.793651</td>\n",
       "      <td>-1.945525</td>\n",
       "    </tr>\n",
       "    <tr>\n",
       "      <th>2491</th>\n",
       "      <td>2010-01-19</td>\n",
       "      <td>AAP</td>\n",
       "      <td>1295000</td>\n",
       "      <td>-0.631951</td>\n",
       "      <td>-1.322023</td>\n",
       "      <td>1.390994</td>\n",
       "      <td>-1.739565</td>\n",
       "      <td>-0.984245</td>\n",
       "    </tr>\n",
       "    <tr>\n",
       "      <th>2492</th>\n",
       "      <td>2010-01-19</td>\n",
       "      <td>AAPL</td>\n",
       "      <td>182501900</td>\n",
       "      <td>-1.671203</td>\n",
       "      <td>-0.579161</td>\n",
       "      <td>1.410553</td>\n",
       "      <td>-1.137500</td>\n",
       "      <td>-0.882160</td>\n",
       "    </tr>\n",
       "    <tr>\n",
       "      <th>2493</th>\n",
       "      <td>2010-01-19</td>\n",
       "      <td>ABC</td>\n",
       "      <td>2826200</td>\n",
       "      <td>-1.065781</td>\n",
       "      <td>0.628691</td>\n",
       "      <td>1.960788</td>\n",
       "      <td>0.683371</td>\n",
       "      <td>1.113248</td>\n",
       "    </tr>\n",
       "    <tr>\n",
       "      <th>2494</th>\n",
       "      <td>2010-01-19</td>\n",
       "      <td>ABT</td>\n",
       "      <td>16663600</td>\n",
       "      <td>0.252932</td>\n",
       "      <td>0.108517</td>\n",
       "      <td>0.217513</td>\n",
       "      <td>-0.289176</td>\n",
       "      <td>0.508629</td>\n",
       "    </tr>\n",
       "    <tr>\n",
       "      <th>2495</th>\n",
       "      <td>2010-01-19</td>\n",
       "      <td>ADBE</td>\n",
       "      <td>5964100</td>\n",
       "      <td>-0.083574</td>\n",
       "      <td>-1.047401</td>\n",
       "      <td>1.738640</td>\n",
       "      <td>-1.518915</td>\n",
       "      <td>-1.308258</td>\n",
       "    </tr>\n",
       "    <tr>\n",
       "      <th>2496</th>\n",
       "      <td>2010-01-19</td>\n",
       "      <td>ADI</td>\n",
       "      <td>3906700</td>\n",
       "      <td>-3.370037</td>\n",
       "      <td>-0.100003</td>\n",
       "      <td>-0.033322</td>\n",
       "      <td>-4.152025</td>\n",
       "      <td>-0.571613</td>\n",
       "    </tr>\n",
       "    <tr>\n",
       "      <th>2497</th>\n",
       "      <td>2010-01-19</td>\n",
       "      <td>ADM</td>\n",
       "      <td>4336000</td>\n",
       "      <td>-0.650615</td>\n",
       "      <td>0.260926</td>\n",
       "      <td>0.425807</td>\n",
       "      <td>-1.069345</td>\n",
       "      <td>0.064854</td>\n",
       "    </tr>\n",
       "    <tr>\n",
       "      <th>2498</th>\n",
       "      <td>2010-01-19</td>\n",
       "      <td>ADS</td>\n",
       "      <td>1032700</td>\n",
       "      <td>-1.574453</td>\n",
       "      <td>0.105072</td>\n",
       "      <td>-0.030006</td>\n",
       "      <td>-1.638378</td>\n",
       "      <td>0.103428</td>\n",
       "    </tr>\n",
       "    <tr>\n",
       "      <th>2499</th>\n",
       "      <td>2010-01-19</td>\n",
       "      <td>ADSK</td>\n",
       "      <td>2395100</td>\n",
       "      <td>-1.954887</td>\n",
       "      <td>1.333333</td>\n",
       "      <td>1.390502</td>\n",
       "      <td>-1.371432</td>\n",
       "      <td>-0.038081</td>\n",
       "    </tr>\n",
       "  </tbody>\n",
       "</table>\n",
       "</div>"
      ],
      "text/plain": [
       "           date Ticker     volume      lag1      lag2      lag3      lag4  \\\n",
       "2490 2010-01-19    AAL    7807700 -1.610018  2.007299  7.874016  0.793651   \n",
       "2491 2010-01-19    AAP    1295000 -0.631951 -1.322023  1.390994 -1.739565   \n",
       "2492 2010-01-19   AAPL  182501900 -1.671203 -0.579161  1.410553 -1.137500   \n",
       "2493 2010-01-19    ABC    2826200 -1.065781  0.628691  1.960788  0.683371   \n",
       "2494 2010-01-19    ABT   16663600  0.252932  0.108517  0.217513 -0.289176   \n",
       "2495 2010-01-19   ADBE    5964100 -0.083574 -1.047401  1.738640 -1.518915   \n",
       "2496 2010-01-19    ADI    3906700 -3.370037 -0.100003 -0.033322 -4.152025   \n",
       "2497 2010-01-19    ADM    4336000 -0.650615  0.260926  0.425807 -1.069345   \n",
       "2498 2010-01-19    ADS    1032700 -1.574453  0.105072 -0.030006 -1.638378   \n",
       "2499 2010-01-19   ADSK    2395100 -1.954887  1.333333  1.390502 -1.371432   \n",
       "\n",
       "          lag5  \n",
       "2490 -1.945525  \n",
       "2491 -0.984245  \n",
       "2492 -0.882160  \n",
       "2493  1.113248  \n",
       "2494  0.508629  \n",
       "2495 -1.308258  \n",
       "2496 -0.571613  \n",
       "2497  0.064854  \n",
       "2498  0.103428  \n",
       "2499 -0.038081  "
      ]
     },
     "execution_count": 82,
     "metadata": {},
     "output_type": "execute_result"
    }
   ],
   "source": [
    "X_train.head(7)"
   ]
  },
  {
   "cell_type": "code",
   "execution_count": 83,
   "metadata": {},
   "outputs": [],
   "source": [
    "# loop through stock data here for additional features [MAY BE PICK ONLY 100/400 stocks???]\n",
    "# Final model we should use say 100\n",
    "# when training, for the purpose of time, we should use <=10\n",
    "Ticker = \"AAPL\"\n",
    "X_train_one = X_train.loc[X_train['Ticker'] == Ticker, :]\n",
    "y_train_one_list = list(y_train[X_train_one.index])\n",
    "X_train_one.drop(['Ticker', 'date'], axis = 1, inplace = True)\n",
    "\n",
    "X_test_one = X_test.loc[X_test['Ticker'] == Ticker, :]\n",
    "y_test_one_list = list(y_test[X_test_one.index])\n",
    "X_test_one.drop(['Ticker', 'date'], axis = 1, inplace = True)"
   ]
  },
  {
   "cell_type": "markdown",
   "metadata": {},
   "source": [
    "#### MSE"
   ]
  },
  {
   "cell_type": "code",
   "execution_count": 95,
   "metadata": {},
   "outputs": [
    {
     "name": "stdout",
     "output_type": "stream",
     "text": [
      "2.44501189116485\n"
     ]
    }
   ],
   "source": [
    "# random forest regression\n",
    "rf = RandomForestRegressor(random_state = 0, n_jobs = 1, n_estimators = 10)\n",
    "rf.fit(X_train_one, y_train_one_list)\n",
    "print(mean_squared_error(y_test_one_list, rf.predict(X_test_one)))"
   ]
  },
  {
   "cell_type": "markdown",
   "metadata": {},
   "source": [
    "#### R2"
   ]
  },
  {
   "cell_type": "code",
   "execution_count": 96,
   "metadata": {
    "collapsed": true
   },
   "outputs": [
    {
     "data": {
      "text/plain": [
       "-0.13264689085616932"
      ]
     },
     "execution_count": 96,
     "metadata": {},
     "output_type": "execute_result"
    }
   ],
   "source": [
    "from sklearn.metrics import r2_score\n",
    "# r2_score(y_test_one.values.astype(np.float), rf.predict(X_test_one.values.astype(np.float)))\n",
    "r2_score(y_test_one_list, rf.predict(X_test_one))"
   ]
  },
  {
   "cell_type": "markdown",
   "metadata": {},
   "source": [
    "### Why is the Correlation & R^2 Negative???"
   ]
  },
  {
   "cell_type": "code",
   "execution_count": 109,
   "metadata": {
    "collapsed": true
   },
   "outputs": [
    {
     "name": "stdout",
     "output_type": "stream",
     "text": [
      "Cor:  -0.023104325001244184\n",
      "R2:  -0.13264689085616932\n"
     ]
    }
   ],
   "source": [
    "y_test_one_list\n",
    "#df = pd.DataFrame([y_test_one_list,rf.predict(X_test_one)],columns=['y_test_one_list','rf.predict(X_test_one)'],dtype=float)\n",
    "TTT = pd.DataFrame(y_test_one_list, columns=['y_test_one_list'])\n",
    "TTT['X_test_one'] = rf.predict(X_test_one)\n",
    "#TTT.head(20)\n",
    "\n",
    "### Correlation\n",
    "print(\"Cor: \", np.corrcoef(TTT['y_test_one_list'], TTT['X_test_one'])[0, 1])\n",
    "print(\"R2: \", r2_score(TTT['y_test_one_list'], TTT['X_test_one']))\n",
    "\n",
    "#fdmg"
   ]
  },
  {
   "cell_type": "code",
   "execution_count": null,
   "metadata": {
    "collapsed": true
   },
   "outputs": [],
   "source": []
  },
  {
   "cell_type": "code",
   "execution_count": null,
   "metadata": {
    "collapsed": true
   },
   "outputs": [],
   "source": []
  },
  {
   "cell_type": "code",
   "execution_count": null,
   "metadata": {
    "collapsed": true
   },
   "outputs": [],
   "source": []
  },
  {
   "cell_type": "code",
   "execution_count": null,
   "metadata": {
    "collapsed": true
   },
   "outputs": [],
   "source": []
  },
  {
   "cell_type": "code",
   "execution_count": 28,
   "metadata": {},
   "outputs": [
    {
     "data": {
      "image/png": "[encoded data removed]",
      "text/plain": [
       "<Figure size 432x288 with 1 Axes>"
      ]
     },
     "metadata": {
      "needs_background": "light"
     },
     "output_type": "display_data"
    },
    {
     "data": {
      "image/png": "[encoded data removed]",
      "text/plain": [
       "<Figure size 432x288 with 1 Axes>"
      ]
     },
     "metadata": {
      "needs_background": "light"
     },
     "output_type": "display_data"
    }
   ],
   "source": [
    "import matplotlib.pyplot as plt\n",
    "\n",
    "a = df_features.loc[df_features.loc[:,'Ticker'] == 'AAPL', ['date', 'close','volume']]\n",
    "a.plot(x = 'date', y = 'close', title = \"Apple - Returns\")\n",
    "a.plot(x = 'date', y = 'volume', title = \"Apple - Returns\")\n",
    "plt.show()"
   ]
  },
  {
   "cell_type": "code",
   "execution_count": null,
   "metadata": {
    "collapsed": true
   },
   "outputs": [],
   "source": []
  },
  {
   "cell_type": "code",
   "execution_count": null,
   "metadata": {
    "collapsed": true
   },
   "outputs": [],
   "source": []
  },
  {
   "cell_type": "code",
   "execution_count": null,
   "metadata": {
    "collapsed": true
   },
   "outputs": [],
   "source": []
  },
  {
   "cell_type": "code",
   "execution_count": null,
   "metadata": {
    "collapsed": true
   },
   "outputs": [],
   "source": []
  },
  {
   "cell_type": "code",
   "execution_count": null,
   "metadata": {
    "collapsed": true
   },
   "outputs": [],
   "source": []
  }
 ],
 "metadata": {
  "kernelspec": {
   "display_name": "Python 3",
   "language": "python",
   "name": "python3"
  },
  "language_info": {
   "codemirror_mode": {
    "name": "ipython",
    "version": 3
   },
   "file_extension": ".py",
   "mimetype": "text/x-python",
   "name": "python",
   "nbconvert_exporter": "python",
   "pygments_lexer": "ipython3",
   "version": "3.6.6"
  }
 },
 "nbformat": 4,
 "nbformat_minor": 2
}
