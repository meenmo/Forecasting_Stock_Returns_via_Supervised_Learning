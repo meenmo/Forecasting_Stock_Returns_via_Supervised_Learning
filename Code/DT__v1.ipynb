{
 "cells": [
  {
   "cell_type": "code",
   "execution_count": 3,
   "metadata": {},
   "outputs": [],
   "source": [
    "import pandas as pd\n",
    "import datetime\n",
    "import gc\n",
    "from sklearn.ensemble import RandomForestRegressor\n",
    "from sklearn.metrics import mean_squared_error"
   ]
  },
  {
   "cell_type": "code",
   "execution_count": 5,
   "metadata": {},
   "outputs": [
    {
     "data": {
      "text/html": [
       "<div>\n",
       "<style scoped>\n",
       "    .dataframe tbody tr th:only-of-type {\n",
       "        vertical-align: middle;\n",
       "    }\n",
       "\n",
       "    .dataframe tbody tr th {\n",
       "        vertical-align: top;\n",
       "    }\n",
       "\n",
       "    .dataframe thead th {\n",
       "        text-align: right;\n",
       "    }\n",
       "</style>\n",
       "<table border=\"1\" class=\"dataframe\">\n",
       "  <thead>\n",
       "    <tr style=\"text-align: right;\">\n",
       "      <th></th>\n",
       "      <th>date</th>\n",
       "      <th>Ticker</th>\n",
       "      <th>open</th>\n",
       "      <th>close</th>\n",
       "      <th>low</th>\n",
       "      <th>high</th>\n",
       "      <th>volume</th>\n",
       "    </tr>\n",
       "  </thead>\n",
       "  <tbody>\n",
       "    <tr>\n",
       "      <th>0</th>\n",
       "      <td>2010-01-04</td>\n",
       "      <td>AAL</td>\n",
       "      <td>4.840000</td>\n",
       "      <td>4.770000</td>\n",
       "      <td>4.660000</td>\n",
       "      <td>4.940000</td>\n",
       "      <td>9837300</td>\n",
       "    </tr>\n",
       "    <tr>\n",
       "      <th>1</th>\n",
       "      <td>2010-01-04</td>\n",
       "      <td>AAP</td>\n",
       "      <td>40.700001</td>\n",
       "      <td>40.380001</td>\n",
       "      <td>40.360001</td>\n",
       "      <td>41.040001</td>\n",
       "      <td>1701700</td>\n",
       "    </tr>\n",
       "    <tr>\n",
       "      <th>2</th>\n",
       "      <td>2010-01-04</td>\n",
       "      <td>AAPL</td>\n",
       "      <td>30.490000</td>\n",
       "      <td>30.572857</td>\n",
       "      <td>30.340000</td>\n",
       "      <td>30.642857</td>\n",
       "      <td>123432400</td>\n",
       "    </tr>\n",
       "    <tr>\n",
       "      <th>3</th>\n",
       "      <td>2010-01-04</td>\n",
       "      <td>ABC</td>\n",
       "      <td>26.290001</td>\n",
       "      <td>26.629999</td>\n",
       "      <td>26.139999</td>\n",
       "      <td>26.690001</td>\n",
       "      <td>2455900</td>\n",
       "    </tr>\n",
       "    <tr>\n",
       "      <th>4</th>\n",
       "      <td>2010-01-04</td>\n",
       "      <td>ABT</td>\n",
       "      <td>26.000339</td>\n",
       "      <td>26.129884</td>\n",
       "      <td>25.870792</td>\n",
       "      <td>26.177866</td>\n",
       "      <td>10829000</td>\n",
       "    </tr>\n",
       "  </tbody>\n",
       "</table>\n",
       "</div>"
      ],
      "text/plain": [
       "        date Ticker       open      close        low       high     volume\n",
       "0 2010-01-04    AAL   4.840000   4.770000   4.660000   4.940000    9837300\n",
       "1 2010-01-04    AAP  40.700001  40.380001  40.360001  41.040001    1701700\n",
       "2 2010-01-04   AAPL  30.490000  30.572857  30.340000  30.642857  123432400\n",
       "3 2010-01-04    ABC  26.290001  26.629999  26.139999  26.690001    2455900\n",
       "4 2010-01-04    ABT  26.000339  26.129884  25.870792  26.177866   10829000"
      ]
     },
     "execution_count": 5,
     "metadata": {},
     "output_type": "execute_result"
    }
   ],
   "source": [
    "# read in our data\n",
    "url = \"https://raw.githubusercontent.com/SamIlic/Stat479_Project/master/Data/prices.csv\"\n",
    "df_features = pd.read_csv(url)\n",
    "\n",
    "df_features['date'] = pd.to_datetime(df_features['date'])\n",
    "df_features.head()"
   ]
  },
  {
   "cell_type": "code",
   "execution_count": 6,
   "metadata": {
    "collapsed": true
   },
   "outputs": [],
   "source": [
    "# this is exactly what the book does for create_lag_features from chapter 29\n",
    "def create_lag_features(df, lag_days):\n",
    "    df_ret = df.copy()\n",
    "    \n",
    "    # iterate through the lag days to generate lag values up to lag_days + 1\n",
    "    for i in range(1,lag_days + 2):\n",
    "        df_lag = df_ret[['date', 'Ticker', 'close']].copy()\n",
    "        # generate dataframe to shift index by i day. 415 is number of stocks\n",
    "        df_lag['date'] = df_lag['date'].shift(-i*415)\n",
    "        df_lag.columns = ['date', 'Ticker', 'value_lag' + str(i)]\n",
    "        # combine the valuelag\n",
    "        df_ret = pd.merge(df_ret, df_lag, how = 'left', left_on = ['date', 'Ticker'], right_on = ['date', 'Ticker'])\n",
    "    \n",
    "    #frees memory\n",
    "    del df_lag\n",
    "    \n",
    "    # calculate today's percentage lag\n",
    "    df_ret['Today'] = (df_ret['close'] - df_ret['value_lag1'])/(df_ret['value_lag1']) * 100.0 \n",
    "    \n",
    "    # calculate percentage lag\n",
    "    for i in range(1, lag_days + 1):\n",
    "        df_ret['lag' + str(i)] = (df_ret['value_lag'+ str(i)] - df_ret['value_lag'+ str(i+1)])/(df_ret['value_lag'+str(i+1)]) * 100.0\n",
    "    \n",
    "    # drop unneeded columns which are value_lags\n",
    "    for i in range(1, lag_days + 2):\n",
    "        df_ret.drop(['value_lag' + str(i)], axis = 1, inplace = True)\n",
    "                                                                                                                                                                                                                                                                                                                                     \n",
    "    return df_ret"
   ]
  },
  {
   "cell_type": "code",
   "execution_count": 11,
   "metadata": {},
   "outputs": [
    {
     "data": {
      "text/html": [
       "<div>\n",
       "<style scoped>\n",
       "    .dataframe tbody tr th:only-of-type {\n",
       "        vertical-align: middle;\n",
       "    }\n",
       "\n",
       "    .dataframe tbody tr th {\n",
       "        vertical-align: top;\n",
       "    }\n",
       "\n",
       "    .dataframe thead th {\n",
       "        text-align: right;\n",
       "    }\n",
       "</style>\n",
       "<table border=\"1\" class=\"dataframe\">\n",
       "  <thead>\n",
       "    <tr style=\"text-align: right;\">\n",
       "      <th></th>\n",
       "      <th>date</th>\n",
       "      <th>Ticker</th>\n",
       "      <th>open</th>\n",
       "      <th>close</th>\n",
       "      <th>low</th>\n",
       "      <th>high</th>\n",
       "      <th>volume</th>\n",
       "      <th>Today</th>\n",
       "      <th>lag1</th>\n",
       "      <th>lag2</th>\n",
       "      <th>lag3</th>\n",
       "    </tr>\n",
       "  </thead>\n",
       "  <tbody>\n",
       "    <tr>\n",
       "      <th>2</th>\n",
       "      <td>2010-01-04</td>\n",
       "      <td>AAPL</td>\n",
       "      <td>30.490000</td>\n",
       "      <td>30.572857</td>\n",
       "      <td>30.340000</td>\n",
       "      <td>30.642857</td>\n",
       "      <td>123432400</td>\n",
       "      <td>NaN</td>\n",
       "      <td>NaN</td>\n",
       "      <td>NaN</td>\n",
       "      <td>NaN</td>\n",
       "    </tr>\n",
       "    <tr>\n",
       "      <th>417</th>\n",
       "      <td>2010-01-05</td>\n",
       "      <td>AAPL</td>\n",
       "      <td>30.657143</td>\n",
       "      <td>30.625713</td>\n",
       "      <td>30.464285</td>\n",
       "      <td>30.798571</td>\n",
       "      <td>150476200</td>\n",
       "      <td>0.172887</td>\n",
       "      <td>NaN</td>\n",
       "      <td>NaN</td>\n",
       "      <td>NaN</td>\n",
       "    </tr>\n",
       "    <tr>\n",
       "      <th>832</th>\n",
       "      <td>2010-01-06</td>\n",
       "      <td>AAPL</td>\n",
       "      <td>30.625713</td>\n",
       "      <td>30.138571</td>\n",
       "      <td>30.107143</td>\n",
       "      <td>30.747143</td>\n",
       "      <td>138040000</td>\n",
       "      <td>-1.590633</td>\n",
       "      <td>0.172887</td>\n",
       "      <td>NaN</td>\n",
       "      <td>NaN</td>\n",
       "    </tr>\n",
       "    <tr>\n",
       "      <th>1247</th>\n",
       "      <td>2010-01-07</td>\n",
       "      <td>AAPL</td>\n",
       "      <td>30.250000</td>\n",
       "      <td>30.082857</td>\n",
       "      <td>29.864286</td>\n",
       "      <td>30.285715</td>\n",
       "      <td>119282800</td>\n",
       "      <td>-0.184858</td>\n",
       "      <td>-1.590633</td>\n",
       "      <td>0.172887</td>\n",
       "      <td>NaN</td>\n",
       "    </tr>\n",
       "    <tr>\n",
       "      <th>1662</th>\n",
       "      <td>2010-01-08</td>\n",
       "      <td>AAPL</td>\n",
       "      <td>30.042856</td>\n",
       "      <td>30.282858</td>\n",
       "      <td>29.865715</td>\n",
       "      <td>30.285715</td>\n",
       "      <td>111902700</td>\n",
       "      <td>0.664833</td>\n",
       "      <td>-0.184858</td>\n",
       "      <td>-1.590633</td>\n",
       "      <td>0.172887</td>\n",
       "    </tr>\n",
       "  </tbody>\n",
       "</table>\n",
       "</div>"
      ],
      "text/plain": [
       "           date Ticker       open      close        low       high     volume  \\\n",
       "2    2010-01-04   AAPL  30.490000  30.572857  30.340000  30.642857  123432400   \n",
       "417  2010-01-05   AAPL  30.657143  30.625713  30.464285  30.798571  150476200   \n",
       "832  2010-01-06   AAPL  30.625713  30.138571  30.107143  30.747143  138040000   \n",
       "1247 2010-01-07   AAPL  30.250000  30.082857  29.864286  30.285715  119282800   \n",
       "1662 2010-01-08   AAPL  30.042856  30.282858  29.865715  30.285715  111902700   \n",
       "\n",
       "         Today      lag1      lag2      lag3  \n",
       "2          NaN       NaN       NaN       NaN  \n",
       "417   0.172887       NaN       NaN       NaN  \n",
       "832  -1.590633  0.172887       NaN       NaN  \n",
       "1247 -0.184858 -1.590633  0.172887       NaN  \n",
       "1662  0.664833 -0.184858 -1.590633  0.172887  "
      ]
     },
     "execution_count": 11,
     "metadata": {},
     "output_type": "execute_result"
    }
   ],
   "source": [
    "df_features = create_lag_features(df_features, 3)\n",
    "\n",
    "# Sanity Check\n",
    "df_temp = df_features.loc[df_features['Ticker'] == \"AAPL\"]\n",
    "df_temp.head()"
   ]
  },
  {
   "cell_type": "code",
   "execution_count": 12,
   "metadata": {
    "collapsed": true
   },
   "outputs": [],
   "source": [
    "# drop earlier data with missing lag features\n",
    "df_features.dropna(inplace=True)"
   ]
  },
  {
   "cell_type": "code",
   "execution_count": 13,
   "metadata": {
    "collapsed": true
   },
   "outputs": [],
   "source": [
    "# finds all unique stocks\n",
    "uniq_stocks = set(df_features['Ticker'])"
   ]
  },
  {
   "cell_type": "code",
   "execution_count": 16,
   "metadata": {},
   "outputs": [],
   "source": [
    "# training data is anything less than 2016\n",
    "X_train = df_features.loc[(df_features['date'] < '2016-01-01'),:]\n",
    "y_train = X_train['Today']\n",
    "\n",
    "# sam might need these column for feature engineering\n",
    "X_train.drop(['open','close','low','high','Today'], axis = 1, inplace = True)\n",
    "\n",
    "# testing data is 2016\n",
    "X_test = df_features.loc[(df_features['date'] > '2015-12-31'), :]\n",
    "y_test = X_test['Today']\n",
    "\n",
    "# sam might need these column for feature engineering\n",
    "X_test.drop(['open','close','low','high','Today'], axis = 1, inplace = True)"
   ]
  },
  {
   "cell_type": "code",
   "execution_count": 17,
   "metadata": {},
   "outputs": [
    {
     "data": {
      "text/html": [
       "<div>\n",
       "<style scoped>\n",
       "    .dataframe tbody tr th:only-of-type {\n",
       "        vertical-align: middle;\n",
       "    }\n",
       "\n",
       "    .dataframe tbody tr th {\n",
       "        vertical-align: top;\n",
       "    }\n",
       "\n",
       "    .dataframe thead th {\n",
       "        text-align: right;\n",
       "    }\n",
       "</style>\n",
       "<table border=\"1\" class=\"dataframe\">\n",
       "  <thead>\n",
       "    <tr style=\"text-align: right;\">\n",
       "      <th></th>\n",
       "      <th>date</th>\n",
       "      <th>Ticker</th>\n",
       "      <th>volume</th>\n",
       "      <th>lag1</th>\n",
       "      <th>lag2</th>\n",
       "      <th>lag3</th>\n",
       "    </tr>\n",
       "  </thead>\n",
       "  <tbody>\n",
       "    <tr>\n",
       "      <th>1660</th>\n",
       "      <td>2010-01-08</td>\n",
       "      <td>AAL</td>\n",
       "      <td>12760000</td>\n",
       "      <td>2.946955</td>\n",
       "      <td>-4.143126</td>\n",
       "      <td>11.320755</td>\n",
       "    </tr>\n",
       "    <tr>\n",
       "      <th>1661</th>\n",
       "      <td>2010-01-08</td>\n",
       "      <td>AAP</td>\n",
       "      <td>960300</td>\n",
       "      <td>-0.024702</td>\n",
       "      <td>0.871956</td>\n",
       "      <td>-0.594359</td>\n",
       "    </tr>\n",
       "    <tr>\n",
       "      <th>1662</th>\n",
       "      <td>2010-01-08</td>\n",
       "      <td>AAPL</td>\n",
       "      <td>111902700</td>\n",
       "      <td>-0.184858</td>\n",
       "      <td>-1.590633</td>\n",
       "      <td>0.172887</td>\n",
       "    </tr>\n",
       "    <tr>\n",
       "      <th>1663</th>\n",
       "      <td>2010-01-08</td>\n",
       "      <td>ABC</td>\n",
       "      <td>4277500</td>\n",
       "      <td>-1.603669</td>\n",
       "      <td>-0.945537</td>\n",
       "      <td>-0.713474</td>\n",
       "    </tr>\n",
       "    <tr>\n",
       "      <th>1664</th>\n",
       "      <td>2010-01-08</td>\n",
       "      <td>ABT</td>\n",
       "      <td>12148600</td>\n",
       "      <td>0.828423</td>\n",
       "      <td>0.555350</td>\n",
       "      <td>-0.807929</td>\n",
       "    </tr>\n",
       "    <tr>\n",
       "      <th>1665</th>\n",
       "      <td>2010-01-08</td>\n",
       "      <td>ADBE</td>\n",
       "      <td>5429200</td>\n",
       "      <td>-1.940457</td>\n",
       "      <td>-0.212207</td>\n",
       "      <td>1.644651</td>\n",
       "    </tr>\n",
       "    <tr>\n",
       "      <th>1666</th>\n",
       "      <td>2010-01-08</td>\n",
       "      <td>ADI</td>\n",
       "      <td>2393100</td>\n",
       "      <td>-0.792142</td>\n",
       "      <td>-0.189760</td>\n",
       "      <td>-0.157875</td>\n",
       "    </tr>\n",
       "    <tr>\n",
       "      <th>1667</th>\n",
       "      <td>2010-01-08</td>\n",
       "      <td>ADM</td>\n",
       "      <td>6264700</td>\n",
       "      <td>-1.045624</td>\n",
       "      <td>-0.252845</td>\n",
       "      <td>0.540197</td>\n",
       "    </tr>\n",
       "    <tr>\n",
       "      <th>1668</th>\n",
       "      <td>2010-01-08</td>\n",
       "      <td>ADS</td>\n",
       "      <td>1106500</td>\n",
       "      <td>0.919369</td>\n",
       "      <td>0.499850</td>\n",
       "      <td>0.197295</td>\n",
       "    </tr>\n",
       "    <tr>\n",
       "      <th>1669</th>\n",
       "      <td>2010-01-08</td>\n",
       "      <td>ADSK</td>\n",
       "      <td>4648300</td>\n",
       "      <td>0.552486</td>\n",
       "      <td>0.237338</td>\n",
       "      <td>-1.519279</td>\n",
       "    </tr>\n",
       "  </tbody>\n",
       "</table>\n",
       "</div>"
      ],
      "text/plain": [
       "           date Ticker     volume      lag1      lag2       lag3\n",
       "1660 2010-01-08    AAL   12760000  2.946955 -4.143126  11.320755\n",
       "1661 2010-01-08    AAP     960300 -0.024702  0.871956  -0.594359\n",
       "1662 2010-01-08   AAPL  111902700 -0.184858 -1.590633   0.172887\n",
       "1663 2010-01-08    ABC    4277500 -1.603669 -0.945537  -0.713474\n",
       "1664 2010-01-08    ABT   12148600  0.828423  0.555350  -0.807929\n",
       "1665 2010-01-08   ADBE    5429200 -1.940457 -0.212207   1.644651\n",
       "1666 2010-01-08    ADI    2393100 -0.792142 -0.189760  -0.157875\n",
       "1667 2010-01-08    ADM    6264700 -1.045624 -0.252845   0.540197\n",
       "1668 2010-01-08    ADS    1106500  0.919369  0.499850   0.197295\n",
       "1669 2010-01-08   ADSK    4648300  0.552486  0.237338  -1.519279"
      ]
     },
     "execution_count": 17,
     "metadata": {},
     "output_type": "execute_result"
    }
   ],
   "source": [
    "X_train.head(10)"
   ]
  },
  {
   "cell_type": "code",
   "execution_count": 18,
   "metadata": {},
   "outputs": [],
   "source": [
    "# loop through stock data here for additional features [MAY BE PICK ONLY 100/400 stocks???]\n",
    "# Final model we should use say 100\n",
    "# when training, for the purpose of time, we should use <=10\n",
    "X_train_one = X_train.loc[X_train['Ticker'] == 'MSFT', :]\n",
    "y_train_one = list(y_train[X_train_one.index])\n",
    "X_train_one.drop(['Ticker', 'date'], axis = 1, inplace = True)\n",
    "\n",
    "X_test_one = X_test.loc[X_test['Ticker'] == 'MSFT', :]\n",
    "y_test_one = list(y_test[X_test_one.index])\n",
    "X_test_one.drop(['Ticker', 'date'], axis = 1, inplace = True)"
   ]
  },
  {
   "cell_type": "code",
   "execution_count": 19,
   "metadata": {},
   "outputs": [
    {
     "name": "stdout",
     "output_type": "stream",
     "text": [
      "2.295970891271329\n"
     ]
    }
   ],
   "source": [
    "# random forest regression\n",
    "rf = RandomForestRegressor(random_state = 0, n_jobs = -1, n_estimators = 10)\n",
    "rf.fit(X_train_one, y_train_one)\n",
    "print(mean_squared_error(y_test_one, rf.predict(X_test_one)))"
   ]
  },
  {
   "cell_type": "code",
   "execution_count": null,
   "metadata": {
    "collapsed": true
   },
   "outputs": [],
   "source": []
  },
  {
   "cell_type": "code",
   "execution_count": null,
   "metadata": {
    "collapsed": true
   },
   "outputs": [],
   "source": []
  },
  {
   "cell_type": "code",
   "execution_count": null,
   "metadata": {
    "collapsed": true
   },
   "outputs": [],
   "source": []
  },
  {
   "cell_type": "code",
   "execution_count": null,
   "metadata": {
    "collapsed": true
   },
   "outputs": [],
   "source": []
  },
  {
   "cell_type": "code",
   "execution_count": null,
   "metadata": {
    "collapsed": true
   },
   "outputs": [],
   "source": []
  },
  {
   "cell_type": "code",
   "execution_count": null,
   "metadata": {
    "collapsed": true
   },
   "outputs": [],
   "source": []
  },
  {
   "cell_type": "code",
   "execution_count": null,
   "metadata": {
    "collapsed": true
   },
   "outputs": [],
   "source": []
  },
  {
   "cell_type": "code",
   "execution_count": 22,
   "metadata": {},
   "outputs": [
    {
     "data": {
      "image/png": "[encoded data removed]",
      "text/plain": [
       "<Figure size 432x288 with 1 Axes>"
      ]
     },
     "metadata": {
      "needs_background": "light"
     },
     "output_type": "display_data"
    }
   ],
   "source": [
    "import matplotlib.pyplot as plt\n",
    "\n",
    "a = df_features.loc[df_features.loc[:,'Ticker'] == 'AAL', ['date', 'close']]\n",
    "a.plot(x = 'date', y = 'close')\n",
    "plt.show()"
   ]
  },
  {
   "cell_type": "code",
   "execution_count": null,
   "metadata": {
    "collapsed": true
   },
   "outputs": [],
   "source": []
  },
  {
   "cell_type": "code",
   "execution_count": null,
   "metadata": {
    "collapsed": true
   },
   "outputs": [],
   "source": []
  },
  {
   "cell_type": "code",
   "execution_count": null,
   "metadata": {
    "collapsed": true
   },
   "outputs": [],
   "source": []
  },
  {
   "cell_type": "code",
   "execution_count": null,
   "metadata": {
    "collapsed": true
   },
   "outputs": [],
   "source": []
  },
  {
   "cell_type": "code",
   "execution_count": null,
   "metadata": {
    "collapsed": true
   },
   "outputs": [],
   "source": []
  }
 ],
 "metadata": {
  "kernelspec": {
   "display_name": "Python 3",
   "language": "python",
   "name": "python3"
  },
  "language_info": {
   "codemirror_mode": {
    "name": "ipython",
    "version": 3
   },
   "file_extension": ".py",
   "mimetype": "text/x-python",
   "name": "python",
   "nbconvert_exporter": "python",
   "pygments_lexer": "ipython3",
   "version": "3.6.6"
  }
 },
 "nbformat": 4,
 "nbformat_minor": 2
}
