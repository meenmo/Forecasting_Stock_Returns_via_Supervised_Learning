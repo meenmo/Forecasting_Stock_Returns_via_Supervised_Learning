{
 "cells": [
  {
   "cell_type": "code",
   "execution_count": 21,
   "metadata": {},
   "outputs": [],
   "source": [
    "import pandas as pd\n",
    "import datetime\n",
    "import gc\n",
    "from sklearn.ensemble import (\n",
    "BaggingRegressor, RandomForestRegressor, AdaBoostRegressor)\n",
    "from sklearn.metrics import mean_squared_error\n",
    "from technical_indicators import * # import all function\n",
    "from sklearn.model_selection import TimeSeriesSplit\n",
    "import parfit as pf\n",
    "from sklearn.metrics import r2_score\n",
    "import numpy as np\n",
    "from sklearn.model_selection import ParameterGrid\n",
    "from sklearn.tree import DecisionTreeRegressor\n",
    "import matplotlib.pyplot as plt\n",
    "from sklearn import linear_model\n",
    "from sklearn.linear_model import BayesianRidge"
   ]
  },
  {
   "cell_type": "code",
   "execution_count": 2,
   "metadata": {},
   "outputs": [],
   "source": [
    "# read in our data\n",
    "url = \"https://raw.githubusercontent.com/SamIlic/Stat479_Project/master/Data/prices.csv\"\n",
    "df_ORIGINAL = pd.read_csv(url)"
   ]
  },
  {
   "cell_type": "code",
   "execution_count": 91,
   "metadata": {},
   "outputs": [
    {
     "data": {
      "text/html": [
       "<div>\n",
       "<style scoped>\n",
       "    .dataframe tbody tr th:only-of-type {\n",
       "        vertical-align: middle;\n",
       "    }\n",
       "\n",
       "    .dataframe tbody tr th {\n",
       "        vertical-align: top;\n",
       "    }\n",
       "\n",
       "    .dataframe thead th {\n",
       "        text-align: right;\n",
       "    }\n",
       "</style>\n",
       "<table border=\"1\" class=\"dataframe\">\n",
       "  <thead>\n",
       "    <tr style=\"text-align: right;\">\n",
       "      <th></th>\n",
       "      <th>date</th>\n",
       "      <th>Ticker</th>\n",
       "      <th>open</th>\n",
       "      <th>close</th>\n",
       "      <th>low</th>\n",
       "      <th>high</th>\n",
       "      <th>volume</th>\n",
       "      <th>close_shifted_1day</th>\n",
       "    </tr>\n",
       "  </thead>\n",
       "  <tbody>\n",
       "    <tr>\n",
       "      <th>0</th>\n",
       "      <td>2010-01-04</td>\n",
       "      <td>AAL</td>\n",
       "      <td>4.840000</td>\n",
       "      <td>4.770000</td>\n",
       "      <td>4.660000</td>\n",
       "      <td>4.940000</td>\n",
       "      <td>9837300</td>\n",
       "      <td>5.310000</td>\n",
       "    </tr>\n",
       "    <tr>\n",
       "      <th>1</th>\n",
       "      <td>2010-01-04</td>\n",
       "      <td>AAP</td>\n",
       "      <td>40.700001</td>\n",
       "      <td>40.380001</td>\n",
       "      <td>40.360001</td>\n",
       "      <td>41.040001</td>\n",
       "      <td>1701700</td>\n",
       "      <td>40.139999</td>\n",
       "    </tr>\n",
       "    <tr>\n",
       "      <th>2</th>\n",
       "      <td>2010-01-04</td>\n",
       "      <td>AAPL</td>\n",
       "      <td>30.490000</td>\n",
       "      <td>30.572857</td>\n",
       "      <td>30.340000</td>\n",
       "      <td>30.642857</td>\n",
       "      <td>123432400</td>\n",
       "      <td>30.625713</td>\n",
       "    </tr>\n",
       "    <tr>\n",
       "      <th>3</th>\n",
       "      <td>2010-01-04</td>\n",
       "      <td>ABC</td>\n",
       "      <td>26.290001</td>\n",
       "      <td>26.629999</td>\n",
       "      <td>26.139999</td>\n",
       "      <td>26.690001</td>\n",
       "      <td>2455900</td>\n",
       "      <td>26.440001</td>\n",
       "    </tr>\n",
       "    <tr>\n",
       "      <th>4</th>\n",
       "      <td>2010-01-04</td>\n",
       "      <td>ABT</td>\n",
       "      <td>26.000339</td>\n",
       "      <td>26.129884</td>\n",
       "      <td>25.870792</td>\n",
       "      <td>26.177866</td>\n",
       "      <td>10829000</td>\n",
       "      <td>25.918773</td>\n",
       "    </tr>\n",
       "  </tbody>\n",
       "</table>\n",
       "</div>"
      ],
      "text/plain": [
       "        date Ticker       open      close        low       high     volume  \\\n",
       "0 2010-01-04    AAL   4.840000   4.770000   4.660000   4.940000    9837300   \n",
       "1 2010-01-04    AAP  40.700001  40.380001  40.360001  41.040001    1701700   \n",
       "2 2010-01-04   AAPL  30.490000  30.572857  30.340000  30.642857  123432400   \n",
       "3 2010-01-04    ABC  26.290001  26.629999  26.139999  26.690001    2455900   \n",
       "4 2010-01-04    ABT  26.000339  26.129884  25.870792  26.177866   10829000   \n",
       "\n",
       "   close_shifted_1day  \n",
       "0            5.310000  \n",
       "1           40.139999  \n",
       "2           30.625713  \n",
       "3           26.440001  \n",
       "4           25.918773  "
      ]
     },
     "execution_count": 91,
     "metadata": {},
     "output_type": "execute_result"
    }
   ],
   "source": [
    "df_features = df_ORIGINAL\n",
    "df_features['date'] = pd.to_datetime(df_features['date'])\n",
    "df_features['close_shifted_1day'] = df_features['close'].shift(-1*415)\n",
    "\n",
    "df_features.head()"
   ]
  },
  {
   "cell_type": "code",
   "execution_count": 153,
   "metadata": {},
   "outputs": [
    {
     "data": {
      "text/html": [
       "<div>\n",
       "<style scoped>\n",
       "    .dataframe tbody tr th:only-of-type {\n",
       "        vertical-align: middle;\n",
       "    }\n",
       "\n",
       "    .dataframe tbody tr th {\n",
       "        vertical-align: top;\n",
       "    }\n",
       "\n",
       "    .dataframe thead th {\n",
       "        text-align: right;\n",
       "    }\n",
       "</style>\n",
       "<table border=\"1\" class=\"dataframe\">\n",
       "  <thead>\n",
       "    <tr style=\"text-align: right;\">\n",
       "      <th></th>\n",
       "      <th>date</th>\n",
       "      <th>Ticker</th>\n",
       "      <th>open</th>\n",
       "      <th>close</th>\n",
       "      <th>low</th>\n",
       "      <th>high</th>\n",
       "      <th>volume</th>\n",
       "      <th>close_shifted_1day</th>\n",
       "    </tr>\n",
       "  </thead>\n",
       "  <tbody>\n",
       "    <tr>\n",
       "      <th>2</th>\n",
       "      <td>2010-01-04</td>\n",
       "      <td>AAPL</td>\n",
       "      <td>30.490000</td>\n",
       "      <td>30.572857</td>\n",
       "      <td>30.340000</td>\n",
       "      <td>30.642857</td>\n",
       "      <td>123432400</td>\n",
       "      <td>30.625713</td>\n",
       "    </tr>\n",
       "    <tr>\n",
       "      <th>417</th>\n",
       "      <td>2010-01-05</td>\n",
       "      <td>AAPL</td>\n",
       "      <td>30.657143</td>\n",
       "      <td>30.625713</td>\n",
       "      <td>30.464285</td>\n",
       "      <td>30.798571</td>\n",
       "      <td>150476200</td>\n",
       "      <td>30.138571</td>\n",
       "    </tr>\n",
       "    <tr>\n",
       "      <th>832</th>\n",
       "      <td>2010-01-06</td>\n",
       "      <td>AAPL</td>\n",
       "      <td>30.625713</td>\n",
       "      <td>30.138571</td>\n",
       "      <td>30.107143</td>\n",
       "      <td>30.747143</td>\n",
       "      <td>138040000</td>\n",
       "      <td>30.082857</td>\n",
       "    </tr>\n",
       "    <tr>\n",
       "      <th>1247</th>\n",
       "      <td>2010-01-07</td>\n",
       "      <td>AAPL</td>\n",
       "      <td>30.250000</td>\n",
       "      <td>30.082857</td>\n",
       "      <td>29.864286</td>\n",
       "      <td>30.285715</td>\n",
       "      <td>119282800</td>\n",
       "      <td>30.282858</td>\n",
       "    </tr>\n",
       "    <tr>\n",
       "      <th>1662</th>\n",
       "      <td>2010-01-08</td>\n",
       "      <td>AAPL</td>\n",
       "      <td>30.042856</td>\n",
       "      <td>30.282858</td>\n",
       "      <td>29.865715</td>\n",
       "      <td>30.285715</td>\n",
       "      <td>111902700</td>\n",
       "      <td>30.015715</td>\n",
       "    </tr>\n",
       "    <tr>\n",
       "      <th>2077</th>\n",
       "      <td>2010-01-11</td>\n",
       "      <td>AAPL</td>\n",
       "      <td>30.400000</td>\n",
       "      <td>30.015715</td>\n",
       "      <td>29.778572</td>\n",
       "      <td>30.428572</td>\n",
       "      <td>115557400</td>\n",
       "      <td>29.674286</td>\n",
       "    </tr>\n",
       "    <tr>\n",
       "      <th>2492</th>\n",
       "      <td>2010-01-12</td>\n",
       "      <td>AAPL</td>\n",
       "      <td>29.884285</td>\n",
       "      <td>29.674286</td>\n",
       "      <td>29.488571</td>\n",
       "      <td>29.967142</td>\n",
       "      <td>148614900</td>\n",
       "      <td>30.092857</td>\n",
       "    </tr>\n",
       "  </tbody>\n",
       "</table>\n",
       "</div>"
      ],
      "text/plain": [
       "           date Ticker       open      close        low       high     volume  \\\n",
       "2    2010-01-04   AAPL  30.490000  30.572857  30.340000  30.642857  123432400   \n",
       "417  2010-01-05   AAPL  30.657143  30.625713  30.464285  30.798571  150476200   \n",
       "832  2010-01-06   AAPL  30.625713  30.138571  30.107143  30.747143  138040000   \n",
       "1247 2010-01-07   AAPL  30.250000  30.082857  29.864286  30.285715  119282800   \n",
       "1662 2010-01-08   AAPL  30.042856  30.282858  29.865715  30.285715  111902700   \n",
       "2077 2010-01-11   AAPL  30.400000  30.015715  29.778572  30.428572  115557400   \n",
       "2492 2010-01-12   AAPL  29.884285  29.674286  29.488571  29.967142  148614900   \n",
       "\n",
       "      close_shifted_1day  \n",
       "2              30.625713  \n",
       "417            30.138571  \n",
       "832            30.082857  \n",
       "1247           30.282858  \n",
       "1662           30.015715  \n",
       "2077           29.674286  \n",
       "2492           30.092857  "
      ]
     },
     "execution_count": 153,
     "metadata": {},
     "output_type": "execute_result"
    }
   ],
   "source": [
    "# Sanity Check\n",
    "df_temp = df_features.loc[df_features['Ticker'] == \"AAPL\"]\n",
    "df_temp.head(7)"
   ]
  },
  {
   "cell_type": "code",
   "execution_count": 151,
   "metadata": {},
   "outputs": [
    {
     "data": {
      "text/plain": [
       "1762"
      ]
     },
     "execution_count": 151,
     "metadata": {},
     "output_type": "execute_result"
    }
   ],
   "source": [
    "get_ticker = 'AAPL'\n",
    "p=np.array(df_features.loc[df_features['Ticker']== get_ticker][['close','high','low','open']])\n",
    "q=np.array(df_features.loc[df_features['Ticker']== get_ticker][['close_shifted_1day']]).reshape(-1,1)"
   ]
  },
  {
   "cell_type": "code",
   "execution_count": 115,
   "metadata": {},
   "outputs": [
    {
     "data": {
      "text/plain": [
       "1762"
      ]
     },
     "execution_count": 115,
     "metadata": {},
     "output_type": "execute_result"
    }
   ],
   "source": [
    "aapl = np.array(df_features.loc[(df_features['Ticker']==get_ticker)][['close']])"
   ]
  },
  {
   "cell_type": "code",
   "execution_count": 154,
   "metadata": {},
   "outputs": [],
   "source": [
    "def backtest(n_days):\n",
    "    \"\"\"\n",
    "    n_days - amount of the last n_days that we whant to get prediction and calculate metrics\n",
    "    \"\"\"\n",
    "    pred = []\n",
    "    true = []\n",
    "    for i in reversed(range(1, n_days)):\n",
    "        x_train = p[:len(p)-i]\n",
    "        y_train = q[:len(q)-i]\n",
    "        x_test = p[len(p)-i]\n",
    "        y_test = q[len(q)-i]\n",
    "\n",
    "        model = BayesianRidge()\n",
    "        model.fit(x_train, y_train)\n",
    "        \n",
    "        pred.append(model.predict([x_test])[0])\n",
    "        true.append(y_test[0])\n",
    "        \n",
    "\n",
    "    return pred, true"
   ]
  },
  {
   "cell_type": "code",
   "execution_count": 158,
   "metadata": {},
   "outputs": [],
   "source": [
    "true,pred = backtest(int(len(p)*.2)) #1408"
   ]
  },
  {
   "cell_type": "code",
   "execution_count": 174,
   "metadata": {},
   "outputs": [],
   "source": [
    "diff=np.array(true)-np.array(pred)"
   ]
  },
  {
   "cell_type": "code",
   "execution_count": 112,
   "metadata": {},
   "outputs": [
    {
     "data": {
      "text/plain": [
       "1408"
      ]
     },
     "execution_count": 112,
     "metadata": {},
     "output_type": "execute_result"
    }
   ],
   "source": [
    "date=df_features['date'].unique()\n",
    "date_1=date[:len(aapl)-len(true)]\n",
    "date_2=date[len(aapl)-len(true):]"
   ]
  },
  {
   "cell_type": "code",
   "execution_count": 159,
   "metadata": {},
   "outputs": [
    {
     "name": "stdout",
     "output_type": "stream",
     "text": [
      "1756\n",
      "1756\n",
      "1762\n",
      "351\n"
     ]
    }
   ],
   "source": [
    "print(len(date_1)+len(date_2))\n",
    "print(len(date))\n",
    "print(len(p))\n",
    "print(len(true))\n"
   ]
  },
  {
   "cell_type": "code",
   "execution_count": 42,
   "metadata": {},
   "outputs": [],
   "source": [
    "aapl_1 = np.array(df_features.loc[(df_features['Ticker']=='AAPL') & (df_features['date']<=date_1[-1])][['close']])\n",
    "aapl_2 = np.array(df_features.loc[(df_features['Ticker']=='AAPL') & (df_features['date']>=date_2[0])][['close']])\n",
    "aapl_1_lag= np.array(df_features.loc[(df_features['Ticker']=='AAPL') & (df_features['date']<=date_1[-1])][['lag1']])\n",
    "aapl_2_lag = np.array(df_features.loc[(df_features['Ticker']=='AAPL') & (df_features['date']>=date_2[0])][['lag1']])"
   ]
  },
  {
   "cell_type": "code",
   "execution_count": 166,
   "metadata": {},
   "outputs": [
    {
     "data": {
      "text/plain": [
       "[<matplotlib.lines.Line2D at 0x2261658d908>]"
      ]
     },
     "execution_count": 166,
     "metadata": {},
     "output_type": "execute_result"
    },
    {
     "data": {
      "image/png": "[encoded data removed]",
      "text/plain": [
       "<Figure size 432x288 with 1 Axes>"
      ]
     },
     "metadata": {
      "needs_background": "light"
     },
     "output_type": "display_data"
    }
   ],
   "source": [
    "plt.plot(true,color='b')\n",
    "plt.plot(pred,color='r')"
   ]
  },
  {
   "cell_type": "code",
   "execution_count": 176,
   "metadata": {},
   "outputs": [
    {
     "data": {
      "text/plain": [
       "[<matplotlib.lines.Line2D at 0x22605c30b38>]"
      ]
     },
     "execution_count": 176,
     "metadata": {},
     "output_type": "execute_result"
    },
    {
     "data": {
      "image/png": "[encoded data removed]",
      "text/plain": [
       "<Figure size 432x288 with 1 Axes>"
      ]
     },
     "metadata": {
      "needs_background": "light"
     },
     "output_type": "display_data"
    }
   ],
   "source": [
    "plt.plot(diff)"
   ]
  }
 ],
 "metadata": {
  "kernelspec": {
   "display_name": "Python 3",
   "language": "python",
   "name": "python3"
  },
  "language_info": {
   "codemirror_mode": {
    "name": "ipython",
    "version": 3
   },
   "file_extension": ".py",
   "mimetype": "text/x-python",
   "name": "python",
   "nbconvert_exporter": "python",
   "pygments_lexer": "ipython3",
   "version": "3.6.6"
  }
 },
 "nbformat": 4,
 "nbformat_minor": 2
}
