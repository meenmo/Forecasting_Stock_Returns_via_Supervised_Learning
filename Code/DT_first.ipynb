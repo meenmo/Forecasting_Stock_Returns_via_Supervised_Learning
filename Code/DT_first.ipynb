{
 "cells": [
  {
   "cell_type": "markdown",
   "metadata": {},
   "source": [
    "# Decision Tree"
   ]
  },
  {
   "cell_type": "markdown",
   "metadata": {},
   "source": [
    "### Goal: Build a Basic Decision Tree "
   ]
  },
  {
   "cell_type": "markdown",
   "metadata": {},
   "source": [
    "#### 1) Read in state.csv data\n",
    "#### 2) Create basic daily volatility/momentum variables/signals\n",
    "#### 3) Fit the tree \n",
    "#### 4) Predict returns"
   ]
  },
  {
   "cell_type": "code",
   "execution_count": 21,
   "metadata": {},
   "outputs": [],
   "source": [
    "### Load Libraries\n",
    "#Load the librarys\n",
    "import pandas as pd\n",
    "import numpy as np\n",
    "import seaborn as sns\n",
    "import matplotlib.pyplot as plt\n",
    "from matplotlib import rcParams\n",
    "\n",
    "# import plotly.tools as tls\n",
    "# import plotly.offline as py\n",
    "# from plotly.offline import init_notebook_mode, iplot, plot\n",
    "# import plotly.graph_objs as go\n",
    "# init_notebook_mode(connected=True)\n",
    "# import warnings"
   ]
  },
  {
   "cell_type": "markdown",
   "metadata": {},
   "source": [
    "## Read in Data"
   ]
  },
  {
   "cell_type": "code",
   "execution_count": 22,
   "metadata": {},
   "outputs": [
    {
     "data": {
      "text/html": [
       "<div>\n",
       "<style scoped>\n",
       "    .dataframe tbody tr th:only-of-type {\n",
       "        vertical-align: middle;\n",
       "    }\n",
       "\n",
       "    .dataframe tbody tr th {\n",
       "        vertical-align: top;\n",
       "    }\n",
       "\n",
       "    .dataframe thead th {\n",
       "        text-align: right;\n",
       "    }\n",
       "</style>\n",
       "<table border=\"1\" class=\"dataframe\">\n",
       "  <thead>\n",
       "    <tr style=\"text-align: right;\">\n",
       "      <th></th>\n",
       "      <th>date</th>\n",
       "      <th>Ticker</th>\n",
       "      <th>open</th>\n",
       "      <th>close</th>\n",
       "      <th>low</th>\n",
       "      <th>high</th>\n",
       "      <th>volume</th>\n",
       "    </tr>\n",
       "  </thead>\n",
       "  <tbody>\n",
       "    <tr>\n",
       "      <th>0</th>\n",
       "      <td>10/19/16</td>\n",
       "      <td>AAL</td>\n",
       "      <td>39.480000</td>\n",
       "      <td>40.630001</td>\n",
       "      <td>39.400002</td>\n",
       "      <td>40.810001</td>\n",
       "      <td>12764200</td>\n",
       "    </tr>\n",
       "    <tr>\n",
       "      <th>1</th>\n",
       "      <td>11/23/16</td>\n",
       "      <td>AAL</td>\n",
       "      <td>46.049999</td>\n",
       "      <td>46.340000</td>\n",
       "      <td>45.700001</td>\n",
       "      <td>46.389999</td>\n",
       "      <td>5160200</td>\n",
       "    </tr>\n",
       "    <tr>\n",
       "      <th>2</th>\n",
       "      <td>11/3/16</td>\n",
       "      <td>AAL</td>\n",
       "      <td>39.779999</td>\n",
       "      <td>39.380001</td>\n",
       "      <td>39.299999</td>\n",
       "      <td>40.240002</td>\n",
       "      <td>6006500</td>\n",
       "    </tr>\n",
       "    <tr>\n",
       "      <th>3</th>\n",
       "      <td>10/31/16</td>\n",
       "      <td>AAL</td>\n",
       "      <td>40.310001</td>\n",
       "      <td>40.599998</td>\n",
       "      <td>40.080002</td>\n",
       "      <td>40.810001</td>\n",
       "      <td>5961100</td>\n",
       "    </tr>\n",
       "    <tr>\n",
       "      <th>4</th>\n",
       "      <td>12/7/16</td>\n",
       "      <td>AAL</td>\n",
       "      <td>46.610001</td>\n",
       "      <td>48.650002</td>\n",
       "      <td>46.520000</td>\n",
       "      <td>48.939999</td>\n",
       "      <td>10210300</td>\n",
       "    </tr>\n",
       "    <tr>\n",
       "      <th>5</th>\n",
       "      <td>12/27/16</td>\n",
       "      <td>AAL</td>\n",
       "      <td>48.290001</td>\n",
       "      <td>48.610001</td>\n",
       "      <td>48.139999</td>\n",
       "      <td>48.919998</td>\n",
       "      <td>2797800</td>\n",
       "    </tr>\n",
       "  </tbody>\n",
       "</table>\n",
       "</div>"
      ],
      "text/plain": [
       "       date Ticker       open      close        low       high    volume\n",
       "0  10/19/16    AAL  39.480000  40.630001  39.400002  40.810001  12764200\n",
       "1  11/23/16    AAL  46.049999  46.340000  45.700001  46.389999   5160200\n",
       "2   11/3/16    AAL  39.779999  39.380001  39.299999  40.240002   6006500\n",
       "3  10/31/16    AAL  40.310001  40.599998  40.080002  40.810001   5961100\n",
       "4   12/7/16    AAL  46.610001  48.650002  46.520000  48.939999  10210300\n",
       "5  12/27/16    AAL  48.290001  48.610001  48.139999  48.919998   2797800"
      ]
     },
     "execution_count": 22,
     "metadata": {},
     "output_type": "execute_result"
    }
   ],
   "source": [
    "df_features = pd.read_csv(\"C:/Users/meenm/OneDrive - UW-Madison/Github/stat479_project/Data/prices.csv\", sep= '\\t')\n",
    "\n",
    "df_features.head(6)\n"
   ]
  },
  {
   "cell_type": "code",
   "execution_count": null,
   "metadata": {},
   "outputs": [],
   "source": [
    "# Computing RSI\n",
    "rsi = ro\n",
    "\n",
    "# Computing\n",
    "\n",
    "\n",
    "# Computing ADX\n",
    "\n",
    "\n",
    "# Create Label \n",
    "\n",
    "\n",
    "\n",
    "\n",
    "\n"
   ]
  },
  {
   "cell_type": "code",
   "execution_count": null,
   "metadata": {},
   "outputs": [],
   "source": []
  },
  {
   "cell_type": "code",
   "execution_count": null,
   "metadata": {},
   "outputs": [],
   "source": []
  },
  {
   "cell_type": "code",
   "execution_count": null,
   "metadata": {},
   "outputs": [],
   "source": []
  },
  {
   "cell_type": "code",
   "execution_count": null,
   "metadata": {},
   "outputs": [],
   "source": []
  },
  {
   "cell_type": "code",
   "execution_count": 23,
   "metadata": {},
   "outputs": [
    {
     "data": {
      "text/html": [
       "<div>\n",
       "<style scoped>\n",
       "    .dataframe tbody tr th:only-of-type {\n",
       "        vertical-align: middle;\n",
       "    }\n",
       "\n",
       "    .dataframe tbody tr th {\n",
       "        vertical-align: top;\n",
       "    }\n",
       "\n",
       "    .dataframe thead th {\n",
       "        text-align: right;\n",
       "    }\n",
       "</style>\n",
       "<table border=\"1\" class=\"dataframe\">\n",
       "  <thead>\n",
       "    <tr style=\"text-align: right;\">\n",
       "      <th></th>\n",
       "      <th>date</th>\n",
       "      <th>Ticker</th>\n",
       "      <th>open</th>\n",
       "      <th>close</th>\n",
       "      <th>low</th>\n",
       "      <th>high</th>\n",
       "      <th>volume</th>\n",
       "    </tr>\n",
       "  </thead>\n",
       "  <tbody>\n",
       "    <tr>\n",
       "      <th>257</th>\n",
       "      <td>2010-01-04</td>\n",
       "      <td>AAL</td>\n",
       "      <td>4.840000</td>\n",
       "      <td>4.770000</td>\n",
       "      <td>4.660000</td>\n",
       "      <td>4.940000</td>\n",
       "      <td>9837300</td>\n",
       "    </tr>\n",
       "    <tr>\n",
       "      <th>3262</th>\n",
       "      <td>2010-01-04</td>\n",
       "      <td>AAP</td>\n",
       "      <td>40.700001</td>\n",
       "      <td>40.380001</td>\n",
       "      <td>40.360001</td>\n",
       "      <td>41.040001</td>\n",
       "      <td>1701700</td>\n",
       "    </tr>\n",
       "    <tr>\n",
       "      <th>3851</th>\n",
       "      <td>2010-01-04</td>\n",
       "      <td>AAPL</td>\n",
       "      <td>30.490000</td>\n",
       "      <td>30.572857</td>\n",
       "      <td>30.340000</td>\n",
       "      <td>30.642857</td>\n",
       "      <td>123432400</td>\n",
       "    </tr>\n",
       "    <tr>\n",
       "      <th>6779</th>\n",
       "      <td>2010-01-04</td>\n",
       "      <td>ABC</td>\n",
       "      <td>26.290001</td>\n",
       "      <td>26.629999</td>\n",
       "      <td>26.139999</td>\n",
       "      <td>26.690001</td>\n",
       "      <td>2455900</td>\n",
       "    </tr>\n",
       "    <tr>\n",
       "      <th>7292</th>\n",
       "      <td>2010-01-04</td>\n",
       "      <td>ABT</td>\n",
       "      <td>26.000339</td>\n",
       "      <td>26.129884</td>\n",
       "      <td>25.870792</td>\n",
       "      <td>26.177866</td>\n",
       "      <td>10829000</td>\n",
       "    </tr>\n",
       "  </tbody>\n",
       "</table>\n",
       "</div>"
      ],
      "text/plain": [
       "           date Ticker       open      close        low       high     volume\n",
       "257  2010-01-04    AAL   4.840000   4.770000   4.660000   4.940000    9837300\n",
       "3262 2010-01-04    AAP  40.700001  40.380001  40.360001  41.040001    1701700\n",
       "3851 2010-01-04   AAPL  30.490000  30.572857  30.340000  30.642857  123432400\n",
       "6779 2010-01-04    ABC  26.290001  26.629999  26.139999  26.690001    2455900\n",
       "7292 2010-01-04    ABT  26.000339  26.129884  25.870792  26.177866   10829000"
      ]
     },
     "execution_count": 23,
     "metadata": {},
     "output_type": "execute_result"
    }
   ],
   "source": [
    "df_features['date'] = pd.to_datetime(df_features['date'])\n",
    "df_features.sort_values(by=['date','Ticker'], inplace = True)\n",
    "df_features.head()"
   ]
  },
  {
   "cell_type": "code",
   "execution_count": 24,
   "metadata": {},
   "outputs": [
    {
     "data": {
      "image/png": "[encoded data removed]",
      "text/plain": [
       "<Figure size 432x288 with 1 Axes>"
      ]
     },
     "metadata": {
      "needs_background": "light"
     },
     "output_type": "display_data"
    }
   ],
   "source": [
    "a = df_features.loc[df_features.loc[:,'Ticker'] == 'AAL', ['date', 'close']]\n",
    "a.plot(x = 'date', y = 'close')\n",
    "plt.show()\n",
    "\n",
    "\n",
    "# a = df_features.loc[df_features.loc[:,'Ticker'] == 'AAL', 'date'] \n",
    "# b = df_features.loc[df_features.loc[:,'Ticker'] == 'AAL', 'close']\n",
    "# plt.plot(a,b)\n",
    "# plt.show()"
   ]
  },
  {
   "cell_type": "code",
   "execution_count": null,
   "metadata": {},
   "outputs": [],
   "source": []
  },
  {
   "cell_type": "code",
   "execution_count": 25,
   "metadata": {},
   "outputs": [
    {
     "data": {
      "text/plain": [
       "257      4.770000\n",
       "3262    40.380001\n",
       "3851    30.572857\n",
       "6779    26.629999\n",
       "7292    26.129884\n",
       "Name: close, dtype: float64"
      ]
     },
     "execution_count": 25,
     "metadata": {},
     "output_type": "execute_result"
    }
   ],
   "source": [
    "from sklearn.ensemble import RandomForestRegressor\n",
    "\n",
    "\n",
    "X_train = df_features.loc[(df_features['date'] < '2016-01-01'),:]\n",
    "y_train = X_train['close']\n",
    "#X_train.drop(['close'], inplace = True)\n",
    "\n",
    "X_train.head()\n",
    "y_train.head()\n",
    "\n",
    "# mod = RandomForestRegressor()\n",
    "# mod.fit()"
   ]
  },
  {
   "cell_type": "code",
   "execution_count": null,
   "metadata": {},
   "outputs": [],
   "source": []
  },
  {
   "cell_type": "code",
   "execution_count": null,
   "metadata": {},
   "outputs": [],
   "source": []
  },
  {
   "cell_type": "code",
   "execution_count": null,
   "metadata": {},
   "outputs": [],
   "source": []
  },
  {
   "cell_type": "code",
   "execution_count": null,
   "metadata": {},
   "outputs": [],
   "source": []
  }
 ],
 "metadata": {
  "kernelspec": {
   "display_name": "Python 3",
   "language": "python",
   "name": "python3"
  },
  "language_info": {
   "codemirror_mode": {
    "name": "ipython",
    "version": 3
   },
   "file_extension": ".py",
   "mimetype": "text/x-python",
   "name": "python",
   "nbconvert_exporter": "python",
   "pygments_lexer": "ipython3",
   "version": "3.6.6"
  }
 },
 "nbformat": 4,
 "nbformat_minor": 2
}
