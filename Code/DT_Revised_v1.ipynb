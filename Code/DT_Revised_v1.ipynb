{
 "cells": [
  {
   "cell_type": "code",
   "execution_count": 47,
   "metadata": {},
   "outputs": [],
   "source": [
    "import pandas as pd\n",
    "import datetime\n",
    "import gc\n",
    "from sklearn.ensemble import (\n",
    "BaggingRegressor, RandomForestRegressor, AdaBoostRegressor)\n",
    "from sklearn.metrics import mean_squared_error\n",
    "from technical_indicators import * # import all function\n",
    "from sklearn.model_selection import TimeSeriesSplit\n",
    "#import parfit as pf\n",
    "from sklearn.metrics import r2_score\n",
    "import numpy as np\n",
    "from sklearn.model_selection import ParameterGrid\n",
    "from sklearn.tree import DecisionTreeRegressor\n",
    "import matplotlib.pyplot as plt\n",
    "from sklearn import linear_model"
   ]
  },
  {
   "cell_type": "code",
   "execution_count": 48,
   "metadata": {
    "collapsed": true
   },
   "outputs": [],
   "source": [
    "# read in our data\n",
    "url = \"https://raw.githubusercontent.com/meenmo/Stat479_Project/master/Data/IBM.csv\"\n",
    "df_ORIGINAL = pd.read_csv(url)\n",
    "df_ORIGINAL.drop(['Close'], axis = 1, inplace = True)\n",
    "df_ORIGINAL.columns = ['Date', 'High', 'Low', 'Open', 'Volume', 'Close'] # Close is actually Adj. Close\n",
    "#df_ORIGINAL = pd.read_csv('IBM.csv')\n"
   ]
  },
  {
   "cell_type": "code",
   "execution_count": 49,
   "metadata": {},
   "outputs": [
    {
     "data": {
      "text/html": [
       "<div>\n",
       "<style scoped>\n",
       "    .dataframe tbody tr th:only-of-type {\n",
       "        vertical-align: middle;\n",
       "    }\n",
       "\n",
       "    .dataframe tbody tr th {\n",
       "        vertical-align: top;\n",
       "    }\n",
       "\n",
       "    .dataframe thead th {\n",
       "        text-align: right;\n",
       "    }\n",
       "</style>\n",
       "<table border=\"1\" class=\"dataframe\">\n",
       "  <thead>\n",
       "    <tr style=\"text-align: right;\">\n",
       "      <th></th>\n",
       "      <th>Date</th>\n",
       "      <th>High</th>\n",
       "      <th>Low</th>\n",
       "      <th>Open</th>\n",
       "      <th>Volume</th>\n",
       "      <th>Close</th>\n",
       "    </tr>\n",
       "  </thead>\n",
       "  <tbody>\n",
       "    <tr>\n",
       "      <th>0</th>\n",
       "      <td>2002-01-02</td>\n",
       "      <td>121.500000</td>\n",
       "      <td>119.800003</td>\n",
       "      <td>120.599999</td>\n",
       "      <td>6862800</td>\n",
       "      <td>84.677422</td>\n",
       "    </tr>\n",
       "    <tr>\n",
       "      <th>1</th>\n",
       "      <td>2002-01-03</td>\n",
       "      <td>124.220001</td>\n",
       "      <td>120.250000</td>\n",
       "      <td>121.500000</td>\n",
       "      <td>8621700</td>\n",
       "      <td>86.182800</td>\n",
       "    </tr>\n",
       "    <tr>\n",
       "      <th>2</th>\n",
       "      <td>2002-01-04</td>\n",
       "      <td>125.599999</td>\n",
       "      <td>123.980003</td>\n",
       "      <td>124.050003</td>\n",
       "      <td>8405200</td>\n",
       "      <td>87.534859</td>\n",
       "    </tr>\n",
       "    <tr>\n",
       "      <th>3</th>\n",
       "      <td>2002-01-07</td>\n",
       "      <td>126.190002</td>\n",
       "      <td>123.699997</td>\n",
       "      <td>125.000000</td>\n",
       "      <td>5939600</td>\n",
       "      <td>86.454575</td>\n",
       "    </tr>\n",
       "    <tr>\n",
       "      <th>4</th>\n",
       "      <td>2002-01-08</td>\n",
       "      <td>125.199997</td>\n",
       "      <td>123.730003</td>\n",
       "      <td>124.250000</td>\n",
       "      <td>5311800</td>\n",
       "      <td>86.907600</td>\n",
       "    </tr>\n",
       "  </tbody>\n",
       "</table>\n",
       "</div>"
      ],
      "text/plain": [
       "        Date        High         Low        Open   Volume      Close\n",
       "0 2002-01-02  121.500000  119.800003  120.599999  6862800  84.677422\n",
       "1 2002-01-03  124.220001  120.250000  121.500000  8621700  86.182800\n",
       "2 2002-01-04  125.599999  123.980003  124.050003  8405200  87.534859\n",
       "3 2002-01-07  126.190002  123.699997  125.000000  5939600  86.454575\n",
       "4 2002-01-08  125.199997  123.730003  124.250000  5311800  86.907600"
      ]
     },
     "execution_count": 49,
     "metadata": {},
     "output_type": "execute_result"
    }
   ],
   "source": [
    "df_features = df_ORIGINAL\n",
    "df_features['Date'] = pd.to_datetime(df_features['Date'])\n",
    "df_features.head()\n"
   ]
  },
  {
   "cell_type": "code",
   "execution_count": 50,
   "metadata": {
    "collapsed": true
   },
   "outputs": [],
   "source": [
    "### Create Lag Features\n",
    "# this is exactly what the book does for create_lag_features from chapter 29\n",
    "def create_lag_features(df, lag_days):\n",
    "    df_ret = df.copy()\n",
    "    \n",
    "    # iterate through the lag days to generate lag values up to lag_days + 1\n",
    "    for i in range(1,lag_days + 2):\n",
    "        df_lag = df_ret[['Date', 'Close']].copy()\n",
    "        # generate dataframe to shift index by i day.\n",
    "        df_lag['Date'] = df_lag['Date'].shift(-i)\n",
    "        df_lag.columns = ['Date', 'value_lag' + str(i)]\n",
    "        # combine the valuelag\n",
    "        df_ret = pd.merge(df_ret, df_lag, how = 'left', left_on = ['Date'], right_on = ['Date'])\n",
    "    \n",
    "    #frees memory\n",
    "    del df_lag\n",
    "    \n",
    "    # calculate today's percentage lag\n",
    "    df_ret['Today'] = (df_ret['Close'] - df_ret['value_lag1'])/(df_ret['value_lag1']) * 100.0 \n",
    "    \n",
    "    # calculate percentage lag\n",
    "    for i in range(1, lag_days + 1):\n",
    "        df_ret['lag' + str(i)] = (df_ret['value_lag'+ str(i)] - df_ret['value_lag'+ str(i+1)])/(df_ret['value_lag'+str(i+1)]) * 100.0\n",
    "    \n",
    "    # drop unneeded columns which are value_lags\n",
    "    for i in range(1, lag_days + 2):\n",
    "        df_ret.drop(['value_lag' + str(i)], axis = 1, inplace = True)\n",
    "                                                                                                                                                                                                                                                                                                                                     \n",
    "    return df_ret"
   ]
  },
  {
   "cell_type": "code",
   "execution_count": 51,
   "metadata": {},
   "outputs": [
    {
     "data": {
      "text/html": [
       "<div>\n",
       "<style scoped>\n",
       "    .dataframe tbody tr th:only-of-type {\n",
       "        vertical-align: middle;\n",
       "    }\n",
       "\n",
       "    .dataframe tbody tr th {\n",
       "        vertical-align: top;\n",
       "    }\n",
       "\n",
       "    .dataframe thead th {\n",
       "        text-align: right;\n",
       "    }\n",
       "</style>\n",
       "<table border=\"1\" class=\"dataframe\">\n",
       "  <thead>\n",
       "    <tr style=\"text-align: right;\">\n",
       "      <th></th>\n",
       "      <th>Date</th>\n",
       "      <th>High</th>\n",
       "      <th>Low</th>\n",
       "      <th>Open</th>\n",
       "      <th>Volume</th>\n",
       "      <th>Close</th>\n",
       "      <th>Today</th>\n",
       "      <th>lag1</th>\n",
       "      <th>lag2</th>\n",
       "      <th>lag3</th>\n",
       "      <th>lag4</th>\n",
       "      <th>lag5</th>\n",
       "    </tr>\n",
       "  </thead>\n",
       "  <tbody>\n",
       "    <tr>\n",
       "      <th>0</th>\n",
       "      <td>2002-01-02</td>\n",
       "      <td>121.500000</td>\n",
       "      <td>119.800003</td>\n",
       "      <td>120.599999</td>\n",
       "      <td>6862800</td>\n",
       "      <td>84.677422</td>\n",
       "      <td>NaN</td>\n",
       "      <td>NaN</td>\n",
       "      <td>NaN</td>\n",
       "      <td>NaN</td>\n",
       "      <td>NaN</td>\n",
       "      <td>NaN</td>\n",
       "    </tr>\n",
       "    <tr>\n",
       "      <th>1</th>\n",
       "      <td>2002-01-03</td>\n",
       "      <td>124.220001</td>\n",
       "      <td>120.250000</td>\n",
       "      <td>121.500000</td>\n",
       "      <td>8621700</td>\n",
       "      <td>86.182800</td>\n",
       "      <td>1.777781</td>\n",
       "      <td>NaN</td>\n",
       "      <td>NaN</td>\n",
       "      <td>NaN</td>\n",
       "      <td>NaN</td>\n",
       "      <td>NaN</td>\n",
       "    </tr>\n",
       "    <tr>\n",
       "      <th>2</th>\n",
       "      <td>2002-01-04</td>\n",
       "      <td>125.599999</td>\n",
       "      <td>123.980003</td>\n",
       "      <td>124.050003</td>\n",
       "      <td>8405200</td>\n",
       "      <td>87.534859</td>\n",
       "      <td>1.568826</td>\n",
       "      <td>1.777781</td>\n",
       "      <td>NaN</td>\n",
       "      <td>NaN</td>\n",
       "      <td>NaN</td>\n",
       "      <td>NaN</td>\n",
       "    </tr>\n",
       "    <tr>\n",
       "      <th>3</th>\n",
       "      <td>2002-01-07</td>\n",
       "      <td>126.190002</td>\n",
       "      <td>123.699997</td>\n",
       "      <td>125.000000</td>\n",
       "      <td>5939600</td>\n",
       "      <td>86.454575</td>\n",
       "      <td>-1.234119</td>\n",
       "      <td>1.568826</td>\n",
       "      <td>1.777781</td>\n",
       "      <td>NaN</td>\n",
       "      <td>NaN</td>\n",
       "      <td>NaN</td>\n",
       "    </tr>\n",
       "    <tr>\n",
       "      <th>4</th>\n",
       "      <td>2002-01-08</td>\n",
       "      <td>125.199997</td>\n",
       "      <td>123.730003</td>\n",
       "      <td>124.250000</td>\n",
       "      <td>5311800</td>\n",
       "      <td>86.907600</td>\n",
       "      <td>0.524004</td>\n",
       "      <td>-1.234119</td>\n",
       "      <td>1.568826</td>\n",
       "      <td>1.777781</td>\n",
       "      <td>NaN</td>\n",
       "      <td>NaN</td>\n",
       "    </tr>\n",
       "    <tr>\n",
       "      <th>5</th>\n",
       "      <td>2002-01-09</td>\n",
       "      <td>126.389999</td>\n",
       "      <td>124.150001</td>\n",
       "      <td>124.699997</td>\n",
       "      <td>6839900</td>\n",
       "      <td>86.761269</td>\n",
       "      <td>-0.168376</td>\n",
       "      <td>0.524004</td>\n",
       "      <td>-1.234119</td>\n",
       "      <td>1.568826</td>\n",
       "      <td>1.777781</td>\n",
       "      <td>NaN</td>\n",
       "    </tr>\n",
       "    <tr>\n",
       "      <th>6</th>\n",
       "      <td>2002-01-10</td>\n",
       "      <td>124.000000</td>\n",
       "      <td>121.419998</td>\n",
       "      <td>123.750000</td>\n",
       "      <td>8926300</td>\n",
       "      <td>85.123428</td>\n",
       "      <td>-1.887755</td>\n",
       "      <td>-0.168376</td>\n",
       "      <td>0.524004</td>\n",
       "      <td>-1.234119</td>\n",
       "      <td>1.568826</td>\n",
       "      <td>1.777781</td>\n",
       "    </tr>\n",
       "  </tbody>\n",
       "</table>\n",
       "</div>"
      ],
      "text/plain": [
       "        Date        High         Low        Open   Volume      Close  \\\n",
       "0 2002-01-02  121.500000  119.800003  120.599999  6862800  84.677422   \n",
       "1 2002-01-03  124.220001  120.250000  121.500000  8621700  86.182800   \n",
       "2 2002-01-04  125.599999  123.980003  124.050003  8405200  87.534859   \n",
       "3 2002-01-07  126.190002  123.699997  125.000000  5939600  86.454575   \n",
       "4 2002-01-08  125.199997  123.730003  124.250000  5311800  86.907600   \n",
       "5 2002-01-09  126.389999  124.150001  124.699997  6839900  86.761269   \n",
       "6 2002-01-10  124.000000  121.419998  123.750000  8926300  85.123428   \n",
       "\n",
       "      Today      lag1      lag2      lag3      lag4      lag5  \n",
       "0       NaN       NaN       NaN       NaN       NaN       NaN  \n",
       "1  1.777781       NaN       NaN       NaN       NaN       NaN  \n",
       "2  1.568826  1.777781       NaN       NaN       NaN       NaN  \n",
       "3 -1.234119  1.568826  1.777781       NaN       NaN       NaN  \n",
       "4  0.524004 -1.234119  1.568826  1.777781       NaN       NaN  \n",
       "5 -0.168376  0.524004 -1.234119  1.568826  1.777781       NaN  \n",
       "6 -1.887755 -0.168376  0.524004 -1.234119  1.568826  1.777781  "
      ]
     },
     "execution_count": 51,
     "metadata": {},
     "output_type": "execute_result"
    }
   ],
   "source": [
    "df_features = create_lag_features(df_features, 5) # 5 lag features\n",
    "df_features.head(7)"
   ]
  },
  {
   "cell_type": "code",
   "execution_count": 52,
   "metadata": {
    "collapsed": true
   },
   "outputs": [],
   "source": [
    "# drop earlier data with missing lag features\n",
    "df_features.dropna(inplace=True)"
   ]
  },
  {
   "cell_type": "code",
   "execution_count": 53,
   "metadata": {
    "collapsed": true
   },
   "outputs": [],
   "source": [
    "# reset index\n",
    "df_features.reset_index(drop = True, inplace = True)\n",
    "\n",
    "#### GENERATE TECHNICAL INDICATORS FEATURES\n",
    "df_features = standard_deviation(df_features, 14)\n",
    "\n",
    "df_features = relative_strength_index(df_features, 14) # periods\n",
    "df_features = average_directional_movement_index(df_features, 14, 13) # n, n_ADX\n",
    "df_features = moving_average(df_features, 21) # periods\n",
    "df_features = exponential_moving_average(df_features, 21) # periods\n",
    "df_features = momentum(df_features, 14) # \n",
    "\n",
    "df_features = average_true_range(df_features, 14)\n",
    "df_features = bollinger_bands(df_features, 21)\n",
    "df_features = ppsr(df_features)\n",
    "df_features = stochastic_oscillator_k(df_features)\n",
    "df_features = stochastic_oscillator_d(df_features, 14)\n",
    "df_features = trix(df_features, 14)\n",
    "df_features = macd(df_features, 26, 12)\n",
    "df_features = mass_index(df_features)\n",
    "df_features = vortex_indicator(df_features, 14)\n",
    "\n",
    "df_features = kst_oscillator(df_features, 10, 10, 10, 15, 10, 15, 20, 30)\n",
    "df_features = true_strength_index(df_features, 25, 13)\n",
    "\n",
    "#df_features = accumulation_distribution(df_features, 14) # Causes Problems, apparently\n",
    "df_features = chaikin_oscillator(df_features)\n",
    "df_features = money_flow_index(df_features, 14)\n",
    "df_features = on_balance_volume(df_features, 14)\n",
    "df_features = force_index(df_features, 14)\n",
    "df_features = ease_of_movement(df_features, 14)\n",
    "df_features = commodity_channel_index(df_features, 14)\n",
    "df_features = keltner_channel(df_features, 14)\n",
    "df_features = ultimate_oscillator(df_features)\n",
    "df_features = donchian_channel(df_features, 14)\n",
    "    \n",
    "# drop earlier data with missing lag features\n",
    "df_features.dropna(inplace=True)\n",
    "df_features = df_features.reset_index(drop = True)"
   ]
  },
  {
   "cell_type": "code",
   "execution_count": 54,
   "metadata": {},
   "outputs": [
    {
     "data": {
      "text/html": [
       "<div>\n",
       "<style scoped>\n",
       "    .dataframe tbody tr th:only-of-type {\n",
       "        vertical-align: middle;\n",
       "    }\n",
       "\n",
       "    .dataframe tbody tr th {\n",
       "        vertical-align: top;\n",
       "    }\n",
       "\n",
       "    .dataframe thead th {\n",
       "        text-align: right;\n",
       "    }\n",
       "</style>\n",
       "<table border=\"1\" class=\"dataframe\">\n",
       "  <thead>\n",
       "    <tr style=\"text-align: right;\">\n",
       "      <th></th>\n",
       "      <th>Date</th>\n",
       "      <th>High</th>\n",
       "      <th>Low</th>\n",
       "      <th>Open</th>\n",
       "      <th>Volume</th>\n",
       "      <th>Close</th>\n",
       "      <th>Today</th>\n",
       "      <th>lag1</th>\n",
       "      <th>lag2</th>\n",
       "      <th>lag3</th>\n",
       "      <th>...</th>\n",
       "      <th>MFI_14</th>\n",
       "      <th>OBV_14</th>\n",
       "      <th>Force_14</th>\n",
       "      <th>EoM_14</th>\n",
       "      <th>CCI_14</th>\n",
       "      <th>KelChM_14</th>\n",
       "      <th>KelChU_14</th>\n",
       "      <th>KelChD_14</th>\n",
       "      <th>Ultimate_Osc</th>\n",
       "      <th>Donchian_14</th>\n",
       "    </tr>\n",
       "  </thead>\n",
       "  <tbody>\n",
       "    <tr>\n",
       "      <th>0</th>\n",
       "      <td>2002-03-14</td>\n",
       "      <td>107.949997</td>\n",
       "      <td>106.589996</td>\n",
       "      <td>107.019997</td>\n",
       "      <td>5335500</td>\n",
       "      <td>74.391068</td>\n",
       "      <td>-0.541176</td>\n",
       "      <td>-1.216580</td>\n",
       "      <td>3.097695</td>\n",
       "      <td>0.142742</td>\n",
       "      <td>...</td>\n",
       "      <td>0.714286</td>\n",
       "      <td>1.962464e+06</td>\n",
       "      <td>-2.921157e+07</td>\n",
       "      <td>2.286739e-07</td>\n",
       "      <td>0.959960</td>\n",
       "      <td>93.032764</td>\n",
       "      <td>95.832764</td>\n",
       "      <td>90.232765</td>\n",
       "      <td>0.034641</td>\n",
       "      <td>13.389999</td>\n",
       "    </tr>\n",
       "    <tr>\n",
       "      <th>1</th>\n",
       "      <td>2002-03-15</td>\n",
       "      <td>107.449997</td>\n",
       "      <td>105.589996</td>\n",
       "      <td>106.550003</td>\n",
       "      <td>10864100</td>\n",
       "      <td>74.523666</td>\n",
       "      <td>0.178246</td>\n",
       "      <td>-0.541176</td>\n",
       "      <td>-1.216580</td>\n",
       "      <td>3.097695</td>\n",
       "      <td>...</td>\n",
       "      <td>0.642857</td>\n",
       "      <td>3.445814e+06</td>\n",
       "      <td>5.695471e+06</td>\n",
       "      <td>2.086708e-07</td>\n",
       "      <td>0.713277</td>\n",
       "      <td>93.570735</td>\n",
       "      <td>96.351449</td>\n",
       "      <td>90.790020</td>\n",
       "      <td>0.031385</td>\n",
       "      <td>13.389999</td>\n",
       "    </tr>\n",
       "    <tr>\n",
       "      <th>2</th>\n",
       "      <td>2002-03-18</td>\n",
       "      <td>108.639999</td>\n",
       "      <td>106.230003</td>\n",
       "      <td>107.099999</td>\n",
       "      <td>5301200</td>\n",
       "      <td>74.216637</td>\n",
       "      <td>-0.411990</td>\n",
       "      <td>0.178246</td>\n",
       "      <td>-0.541176</td>\n",
       "      <td>-1.216580</td>\n",
       "      <td>...</td>\n",
       "      <td>0.714286</td>\n",
       "      <td>3.898193e+06</td>\n",
       "      <td>-4.066156e+07</td>\n",
       "      <td>2.500726e-07</td>\n",
       "      <td>0.779588</td>\n",
       "      <td>94.192408</td>\n",
       "      <td>96.916693</td>\n",
       "      <td>91.468123</td>\n",
       "      <td>0.058735</td>\n",
       "      <td>13.389999</td>\n",
       "    </tr>\n",
       "    <tr>\n",
       "      <th>3</th>\n",
       "      <td>2002-03-19</td>\n",
       "      <td>108.050003</td>\n",
       "      <td>106.489998</td>\n",
       "      <td>106.849999</td>\n",
       "      <td>4614800</td>\n",
       "      <td>75.012154</td>\n",
       "      <td>1.071885</td>\n",
       "      <td>-0.411990</td>\n",
       "      <td>0.178246</td>\n",
       "      <td>-0.541176</td>\n",
       "      <td>...</td>\n",
       "      <td>0.714286</td>\n",
       "      <td>3.372200e+06</td>\n",
       "      <td>-4.964177e+07</td>\n",
       "      <td>2.263920e-07</td>\n",
       "      <td>0.762796</td>\n",
       "      <td>94.770295</td>\n",
       "      <td>97.348152</td>\n",
       "      <td>92.192438</td>\n",
       "      <td>0.057835</td>\n",
       "      <td>13.389999</td>\n",
       "    </tr>\n",
       "    <tr>\n",
       "      <th>4</th>\n",
       "      <td>2002-03-20</td>\n",
       "      <td>106.900001</td>\n",
       "      <td>105.489998</td>\n",
       "      <td>106.900001</td>\n",
       "      <td>4844100</td>\n",
       "      <td>73.623466</td>\n",
       "      <td>-1.851283</td>\n",
       "      <td>1.071885</td>\n",
       "      <td>-0.411990</td>\n",
       "      <td>0.178246</td>\n",
       "      <td>...</td>\n",
       "      <td>0.642857</td>\n",
       "      <td>2.459121e+06</td>\n",
       "      <td>-1.593928e+07</td>\n",
       "      <td>2.007584e-07</td>\n",
       "      <td>0.060704</td>\n",
       "      <td>95.249347</td>\n",
       "      <td>97.800775</td>\n",
       "      <td>92.697918</td>\n",
       "      <td>0.026201</td>\n",
       "      <td>13.389999</td>\n",
       "    </tr>\n",
       "  </tbody>\n",
       "</table>\n",
       "<p>5 rows × 49 columns</p>\n",
       "</div>"
      ],
      "text/plain": [
       "        Date        High         Low        Open    Volume      Close  \\\n",
       "0 2002-03-14  107.949997  106.589996  107.019997   5335500  74.391068   \n",
       "1 2002-03-15  107.449997  105.589996  106.550003  10864100  74.523666   \n",
       "2 2002-03-18  108.639999  106.230003  107.099999   5301200  74.216637   \n",
       "3 2002-03-19  108.050003  106.489998  106.849999   4614800  75.012154   \n",
       "4 2002-03-20  106.900001  105.489998  106.900001   4844100  73.623466   \n",
       "\n",
       "      Today      lag1      lag2      lag3     ...         MFI_14  \\\n",
       "0 -0.541176 -1.216580  3.097695  0.142742     ...       0.714286   \n",
       "1  0.178246 -0.541176 -1.216580  3.097695     ...       0.642857   \n",
       "2 -0.411990  0.178246 -0.541176 -1.216580     ...       0.714286   \n",
       "3  1.071885 -0.411990  0.178246 -0.541176     ...       0.714286   \n",
       "4 -1.851283  1.071885 -0.411990  0.178246     ...       0.642857   \n",
       "\n",
       "         OBV_14      Force_14        EoM_14    CCI_14  KelChM_14  KelChU_14  \\\n",
       "0  1.962464e+06 -2.921157e+07  2.286739e-07  0.959960  93.032764  95.832764   \n",
       "1  3.445814e+06  5.695471e+06  2.086708e-07  0.713277  93.570735  96.351449   \n",
       "2  3.898193e+06 -4.066156e+07  2.500726e-07  0.779588  94.192408  96.916693   \n",
       "3  3.372200e+06 -4.964177e+07  2.263920e-07  0.762796  94.770295  97.348152   \n",
       "4  2.459121e+06 -1.593928e+07  2.007584e-07  0.060704  95.249347  97.800775   \n",
       "\n",
       "   KelChD_14  Ultimate_Osc  Donchian_14  \n",
       "0  90.232765      0.034641    13.389999  \n",
       "1  90.790020      0.031385    13.389999  \n",
       "2  91.468123      0.058735    13.389999  \n",
       "3  92.192438      0.057835    13.389999  \n",
       "4  92.697918      0.026201    13.389999  \n",
       "\n",
       "[5 rows x 49 columns]"
      ]
     },
     "metadata": {},
     "output_type": "display_data"
    }
   ],
   "source": [
    "display(df_features.head())"
   ]
  },
  {
   "cell_type": "code",
   "execution_count": null,
   "metadata": {
    "collapsed": true
   },
   "outputs": [],
   "source": []
  },
  {
   "cell_type": "code",
   "execution_count": 55,
   "metadata": {
    "collapsed": true
   },
   "outputs": [],
   "source": [
    "# do time series split DOING NUMBER 2\n",
    "splits = TimeSeriesSplit(n_splits=5)\n",
    "\n",
    "# stores all labels\n",
    "y = df_features['Today']\n",
    "\n",
    "# drop unneded columns\n",
    "df_features.drop(['Open','Close','Low','High','Today'], axis = 1, inplace = True)\n",
    "\n",
    "# all training data\n",
    "X_train_all = df_features.loc[(df_features['Date'] < '2018-01-01')]\n",
    "y_train_all = y[X_train_all.index]\n",
    "\n",
    "# creates all test data which is all after January 2018\n",
    "X_test = df_features.loc[(df_features['Date'] >= '2018-01-01'),:]\n",
    "y_test = y[X_test.index]"
   ]
  },
  {
   "cell_type": "code",
   "execution_count": 56,
   "metadata": {},
   "outputs": [
    {
     "name": "stdout",
     "output_type": "stream",
     "text": [
      "Observations:  875\n",
      "Cutoff date, or first date in validation data:  2004-11-01 00:00:00\n",
      "Training Observations:  664\n",
      "Testing Observations:  211\n"
     ]
    },
    {
     "name": "stderr",
     "output_type": "stream",
     "text": [
      "/Users/YoungFreeesh/anaconda3/lib/python3.6/site-packages/pandas/core/frame.py:3697: SettingWithCopyWarning: \n",
      "A value is trying to be set on a copy of a slice from a DataFrame\n",
      "\n",
      "See the caveats in the documentation: http://pandas.pydata.org/pandas-docs/stable/indexing.html#indexing-view-versus-copy\n",
      "  errors=errors)\n",
      "/Users/YoungFreeesh/anaconda3/lib/python3.6/site-packages/sklearn/ensemble/forest.py:248: FutureWarning: The default value of n_estimators will change from 10 in version 0.20 to 100 in 0.22.\n",
      "  \"10 in version 0.20 to 100 in 0.22.\", FutureWarning)\n"
     ]
    },
    {
     "name": "stdout",
     "output_type": "stream",
     "text": [
      "Observations:  1538\n",
      "Cutoff date, or first date in validation data:  2007-06-21 00:00:00\n",
      "Training Observations:  1327\n",
      "Testing Observations:  211\n"
     ]
    },
    {
     "name": "stderr",
     "output_type": "stream",
     "text": [
      "/Users/YoungFreeesh/anaconda3/lib/python3.6/site-packages/pandas/core/frame.py:3697: SettingWithCopyWarning: \n",
      "A value is trying to be set on a copy of a slice from a DataFrame\n",
      "\n",
      "See the caveats in the documentation: http://pandas.pydata.org/pandas-docs/stable/indexing.html#indexing-view-versus-copy\n",
      "  errors=errors)\n",
      "/Users/YoungFreeesh/anaconda3/lib/python3.6/site-packages/sklearn/ensemble/forest.py:248: FutureWarning: The default value of n_estimators will change from 10 in version 0.20 to 100 in 0.22.\n",
      "  \"10 in version 0.20 to 100 in 0.22.\", FutureWarning)\n"
     ]
    },
    {
     "name": "stdout",
     "output_type": "stream",
     "text": [
      "Observations:  2201\n",
      "Cutoff date, or first date in validation data:  2010-02-08 00:00:00\n",
      "Training Observations:  1990\n",
      "Testing Observations:  211\n"
     ]
    },
    {
     "name": "stderr",
     "output_type": "stream",
     "text": [
      "/Users/YoungFreeesh/anaconda3/lib/python3.6/site-packages/pandas/core/frame.py:3697: SettingWithCopyWarning: \n",
      "A value is trying to be set on a copy of a slice from a DataFrame\n",
      "\n",
      "See the caveats in the documentation: http://pandas.pydata.org/pandas-docs/stable/indexing.html#indexing-view-versus-copy\n",
      "  errors=errors)\n",
      "/Users/YoungFreeesh/anaconda3/lib/python3.6/site-packages/sklearn/ensemble/forest.py:248: FutureWarning: The default value of n_estimators will change from 10 in version 0.20 to 100 in 0.22.\n",
      "  \"10 in version 0.20 to 100 in 0.22.\", FutureWarning)\n"
     ]
    },
    {
     "name": "stdout",
     "output_type": "stream",
     "text": [
      "Observations:  2864\n",
      "Cutoff date, or first date in validation data:  2012-09-24 00:00:00\n",
      "Training Observations:  2653\n",
      "Testing Observations:  211\n"
     ]
    },
    {
     "name": "stderr",
     "output_type": "stream",
     "text": [
      "/Users/YoungFreeesh/anaconda3/lib/python3.6/site-packages/pandas/core/frame.py:3697: SettingWithCopyWarning: \n",
      "A value is trying to be set on a copy of a slice from a DataFrame\n",
      "\n",
      "See the caveats in the documentation: http://pandas.pydata.org/pandas-docs/stable/indexing.html#indexing-view-versus-copy\n",
      "  errors=errors)\n",
      "/Users/YoungFreeesh/anaconda3/lib/python3.6/site-packages/sklearn/ensemble/forest.py:248: FutureWarning: The default value of n_estimators will change from 10 in version 0.20 to 100 in 0.22.\n",
      "  \"10 in version 0.20 to 100 in 0.22.\", FutureWarning)\n"
     ]
    },
    {
     "name": "stdout",
     "output_type": "stream",
     "text": [
      "Observations:  3527\n",
      "Cutoff date, or first date in validation data:  2015-05-15 00:00:00\n",
      "Training Observations:  3316\n",
      "Testing Observations:  211\n"
     ]
    },
    {
     "name": "stderr",
     "output_type": "stream",
     "text": [
      "/Users/YoungFreeesh/anaconda3/lib/python3.6/site-packages/pandas/core/frame.py:3697: SettingWithCopyWarning: \n",
      "A value is trying to be set on a copy of a slice from a DataFrame\n",
      "\n",
      "See the caveats in the documentation: http://pandas.pydata.org/pandas-docs/stable/indexing.html#indexing-view-versus-copy\n",
      "  errors=errors)\n",
      "/Users/YoungFreeesh/anaconda3/lib/python3.6/site-packages/sklearn/ensemble/forest.py:248: FutureWarning: The default value of n_estimators will change from 10 in version 0.20 to 100 in 0.22.\n",
      "  \"10 in version 0.20 to 100 in 0.22.\", FutureWarning)\n"
     ]
    }
   ],
   "source": [
    "trainsamples = []\n",
    "model1metrics = []\n",
    "model2metrics = []\n",
    "model3metrics = []\n",
    "model4metrics = []\n",
    "\n",
    "for train_index, test_index in splits.split(X_train_all.loc[:,'Date']):\n",
    "    \n",
    "    # do the split for train, Take row 0 to last element of train index\n",
    "    X_train = X_train_all.loc[0:train_index[len(train_index) - 1],:]\n",
    "    y_train = y[X_train.index]\n",
    "        \n",
    "    # do the split for validation, Take first element of test index to last element of test index\n",
    "    X_val = X_train_all.loc[test_index[0]:test_index[len(test_index) - 1],:]\n",
    "    y_val = y[X_val.index]\n",
    "        \n",
    "    # print some useful info\n",
    "    print('Observations: ', (X_train.shape[0] + X_test.shape[0]))\n",
    "    print('Cutoff date, or first date in validation data: ', X_val.iloc[0,0])\n",
    "    print('Training Observations: ', (X_train.shape[0]))\n",
    "    print('Testing Observations: ', (X_test.shape[0]))\n",
    "    \n",
    "    # drop date\n",
    "    X_train.drop(['Date'], axis = 1, inplace = True)\n",
    "    X_val.drop(['Date'], axis = 1, inplace = True)\n",
    "    \n",
    "    trainsamples.append(X_train.shape[0])\n",
    "    \n",
    "    # random forest regression based on default parameter\n",
    "    rf = RandomForestRegressor(random_state = 0)\n",
    "    rf.fit(X_train, y_train)\n",
    "    model1metrics.append([mean_squared_error(y_val, rf.predict(X_val)),r2_score(y_val, rf.predict(X_val))])\n",
    "    \n",
    "    # bagging based on default parameter\n",
    "    bag = BaggingRegressor(DecisionTreeRegressor())\n",
    "    bag.fit(X_train, y_train)\n",
    "    model2metrics.append([mean_squared_error(y_val, bag.predict(X_val)),r2_score(y_val, bag.predict(X_val))])\n",
    "    \n",
    "    # boosting on default parameter\n",
    "    boost = AdaBoostRegressor(DecisionTreeRegressor(), random_state = 0, learning_rate=0.01)\n",
    "    boost.fit(X_train, y_train)\n",
    "    model3metrics.append([mean_squared_error(y_val, boost.predict(X_val)),r2_score(y_val, boost.predict(X_val))])\n",
    "    \n",
    "    # linear regression on default parameter\n",
    "    lr = linear_model.LinearRegression()\n",
    "    lr.fit(X_train, y_train)\n",
    "    model4metrics.append([mean_squared_error(y_val, lr.predict(X_val)),r2_score(y_val, lr.predict(X_val))])"
   ]
  },
  {
   "cell_type": "code",
   "execution_count": 57,
   "metadata": {},
   "outputs": [
    {
     "data": {
      "image/png": "[encoded data removed]",
      "text/plain": [
       "<Figure size 1080x720 with 1 Axes>"
      ]
     },
     "metadata": {
      "needs_background": "light"
     },
     "output_type": "display_data"
    }
   ],
   "source": [
    "plt.plot(trainsamples,[item[0] for item in model1metrics], color = 'r', label = 'Random Forest')\n",
    "plt.plot(trainsamples,[item[0] for item in model2metrics], color = 'g', label = 'Bagging')\n",
    "plt.plot(trainsamples,[item[0] for item in model3metrics], color = 'b', label = 'AdaBoost')\n",
    "plt.plot(trainsamples,[item[0] for item in model4metrics], color = 'orange', label = 'Linear Regression')\n",
    "\n",
    "plt.title('MSE on validation data vs number of training samples for TimeSeriesSplit')\n",
    "plt.xlabel('training samples')\n",
    "plt.ylabel('MSE')\n",
    "plt.legend()\n",
    "\n",
    "#plt.rcParams['figure.figsize'] = [15,10]\n",
    "\n",
    "plt.show()"
   ]
  },
  {
   "cell_type": "code",
   "execution_count": 38,
   "metadata": {},
   "outputs": [
    {
     "data": {
      "image/png": "[encoded data removed]",
      "text/plain": [
       "<Figure size 432x288 with 1 Axes>"
      ]
     },
     "metadata": {
      "needs_background": "light"
     },
     "output_type": "display_data"
    }
   ],
   "source": [
    "plt.plot(trainsamples,[item[1] for item in model1metrics], color = 'r', label = 'RandomForest')\n",
    "plt.plot(trainsamples,[item[1] for item in model2metrics], color = 'g', label = 'Bagging')\n",
    "plt.plot(trainsamples,[item[1] for item in model3metrics], color = 'b', label = 'Boosting')\n",
    "plt.plot(trainsamples,[item[1] for item in model4metrics], color = 'orange', label = 'Linear Regression')\n",
    "\n",
    "plt.title('R2 on validation data vs number of training samples for TimeSeriesSplit')\n",
    "plt.xlabel('training samples')\n",
    "plt.ylabel('R2')\n",
    "plt.legend()\n",
    "\n",
    "plt.rcParams['figure.figsize'] = [15,10]\n",
    "\n",
    "plt.show()"
   ]
  },
  {
   "cell_type": "markdown",
   "metadata": {},
   "source": [
    "## Hyperparameter Tuning on last validation fold"
   ]
  },
  {
   "cell_type": "code",
   "execution_count": null,
   "metadata": {
    "collapsed": true
   },
   "outputs": [],
   "source": [
    "rf = RandomForestRegressor(random_state = 0)\n",
    "\n",
    "# hyperparameter tuning on randomforest\n",
    "paramGrid = ParameterGrid({\n",
    "    'n_estimators': [10,15,20],\n",
    "    'max_depth' : [10,15],\n",
    "    'min_samples_leaf': [3,5,10]})\n",
    "    \n",
    "best_model, best_score, all_models, all_scores = pf.bestFit(rf, paramGrid, X_train, y_train, X_val, y_val, metric=mean_squared_error, greater_is_better=False, scoreLabel='MSE')\n",
    "    \n",
    "print(best_model)"
   ]
  },
  {
   "cell_type": "code",
   "execution_count": null,
   "metadata": {
    "collapsed": true
   },
   "outputs": [],
   "source": [
    "bag = BaggingRegressor(DecisionTreeRegressor(), random_state = 0)\n",
    "\n",
    "# hyperparameter tuning on bagging\n",
    "paramGrid = ParameterGrid({\n",
    "    'max_features': [10,15,20],\n",
    "    'n_estimators' : [5,10,15,20],\n",
    "    })\n",
    "    \n",
    "best_model, best_score, all_models, all_scores = pf.bestFit(bag, paramGrid, X_train, y_train, X_val, y_val, metric=mean_squared_error, greater_is_better=False, scoreLabel='MSE')\n",
    "    \n",
    "print(best_model)"
   ]
  },
  {
   "cell_type": "code",
   "execution_count": null,
   "metadata": {
    "collapsed": true
   },
   "outputs": [],
   "source": [
    "boost = AdaBoostRegressor(DecisionTreeRegressor(), random_state = 0)\n",
    "\n",
    "# hyperparameter tuning on Boosting\n",
    "paramGrid = ParameterGrid({\n",
    "    'learning_rate': [0.1,0.01],\n",
    "    'n_estimators' : [5,10,15,20],\n",
    "    })\n",
    "    \n",
    "best_model, best_score, all_models, all_scores = pf.bestFit(boost, paramGrid, X_train, y_train, X_val, y_val, metric=mean_squared_error, greater_is_better=False, scoreLabel='MSE')\n",
    "    \n",
    "print(best_model)"
   ]
  },
  {
   "cell_type": "code",
   "execution_count": null,
   "metadata": {
    "collapsed": true
   },
   "outputs": [],
   "source": [
    "rf = RandomForestRegressor(bootstrap=True, criterion='mse', max_depth=15,\n",
    "           max_features='auto', max_leaf_nodes=None,\n",
    "           min_impurity_decrease=0.0, min_impurity_split=None,\n",
    "           min_samples_leaf=3, min_samples_split=2,\n",
    "           min_weight_fraction_leaf=0.0, n_estimators=20, n_jobs=1,\n",
    "           oob_score=False, random_state=0, verbose=0, warm_start=False)\n",
    "\n",
    "bag = BaggingRegressor(base_estimator=DecisionTreeRegressor(criterion='mse', max_depth=None, max_features=None,\n",
    "           max_leaf_nodes=None, min_impurity_decrease=0.0,\n",
    "           min_impurity_split=None, min_samples_leaf=1,\n",
    "           min_samples_split=2, min_weight_fraction_leaf=0.0,\n",
    "           presort=False, random_state=None, splitter='best'),\n",
    "         bootstrap=True, bootstrap_features=False, max_features=20,\n",
    "         max_samples=1.0, n_estimators=20, n_jobs=1, oob_score=False,\n",
    "         random_state=0, verbose=0, warm_start=False)\n",
    "\n",
    "boost = AdaBoostRegressor(base_estimator=DecisionTreeRegressor(criterion='mse', max_depth=None, max_features=None,\n",
    "           max_leaf_nodes=None, min_impurity_decrease=0.0,\n",
    "           min_impurity_split=None, min_samples_leaf=1,\n",
    "           min_samples_split=2, min_weight_fraction_leaf=0.0,\n",
    "           presort=False, random_state=None, splitter='best'),\n",
    "         learning_rate=0.01, loss='linear', n_estimators=15,\n",
    "         random_state=0)\n",
    "\n",
    "lr = linear_model.LinearRegression(copy_X=True, fit_intercept=True, n_jobs=1, normalize=False)\n",
    "\n",
    "rf.fit(X_train, y_train)\n",
    "bag.fit(X_train, y_train)\n",
    "boost.fit(X_train, y_train)\n",
    "lr.fit(X_train, y_train)"
   ]
  },
  {
   "cell_type": "code",
   "execution_count": null,
   "metadata": {
    "collapsed": true
   },
   "outputs": [],
   "source": [
    "# mse and r2 on validation fold\n",
    "print('mse level2: ', mean_squared_error(y_val, lr.predict(X_val)))\n",
    "print('r2_score: ' , r2_score(y_val, lr.predict(X_val)))"
   ]
  },
  {
   "cell_type": "code",
   "execution_count": null,
   "metadata": {
    "collapsed": true
   },
   "outputs": [],
   "source": [
    "# Linear Regression is the best model\n",
    "X_test.drop(['Date'], axis = 1, inplace = True)\n",
    "y_pred = lr.predict(X_test)"
   ]
  },
  {
   "cell_type": "code",
   "execution_count": null,
   "metadata": {
    "collapsed": true
   },
   "outputs": [],
   "source": [
    "# mse and r2 on test fold\n",
    "print('mse level2: ', mean_squared_error(y_test, y_pred))\n",
    "print('r2_score: ' , r2_score(y_test, y_pred))"
   ]
  },
  {
   "cell_type": "code",
   "execution_count": null,
   "metadata": {
    "collapsed": true
   },
   "outputs": [],
   "source": [
    "plt.plot(y_test.index, y_pred)\n",
    "plt.plot(y_test.index, y_test)\n",
    "\n",
    "plt.xlabel('index')\n",
    "plt.ylabel('% return')\n",
    "plt.title('% return on test dataset')\n",
    "plt.show()"
   ]
  },
  {
   "cell_type": "code",
   "execution_count": null,
   "metadata": {
    "collapsed": true
   },
   "outputs": [],
   "source": []
  }
 ],
 "metadata": {
  "kernelspec": {
   "display_name": "Python 3",
   "language": "python",
   "name": "python3"
  },
  "language_info": {
   "codemirror_mode": {
    "name": "ipython",
    "version": 3
   },
   "file_extension": ".py",
   "mimetype": "text/x-python",
   "name": "python",
   "nbconvert_exporter": "python",
   "pygments_lexer": "ipython3",
   "version": "3.6.6"
  }
 },
 "nbformat": 4,
 "nbformat_minor": 2
}
