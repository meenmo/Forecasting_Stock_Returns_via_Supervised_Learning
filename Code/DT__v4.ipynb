{
 "cells": [
  {
   "cell_type": "code",
   "execution_count": 2,
   "metadata": {},
   "outputs": [],
   "source": [
    "import pandas as pd\n",
    "import datetime\n",
    "import gc\n",
    "from sklearn.ensemble import (\n",
    "BaggingRegressor, RandomForestRegressor, AdaBoostRegressor)\n",
    "from sklearn.metrics import mean_squared_error\n",
    "from technical_indicators import * # import all function\n",
    "from sklearn.model_selection import TimeSeriesSplit\n",
    "import parfit as pf\n",
    "from sklearn.metrics import r2_score\n",
    "import numpy as np\n",
    "from sklearn.model_selection import ParameterGrid\n",
    "from sklearn.tree import DecisionTreeRegressor\n",
    "import matplotlib.pyplot as plt\n",
    "from sklearn import linear_model"
   ]
  },
  {
   "cell_type": "code",
   "execution_count": 52,
   "metadata": {},
   "outputs": [],
   "source": [
    "# read in our data\n",
    "url = \"https://raw.githubusercontent.com/meenmo/Stat479_Project/master/Data/IBM.csv\"\n",
    "df_ORIGINAL = pd.read_csv(url)"
   ]
  },
  {
   "cell_type": "markdown",
   "metadata": {},
   "source": [
    "### Clean Data"
   ]
  },
  {
   "cell_type": "code",
   "execution_count": 53,
   "metadata": {},
   "outputs": [
    {
     "data": {
      "text/html": [
       "<div>\n",
       "<style scoped>\n",
       "    .dataframe tbody tr th:only-of-type {\n",
       "        vertical-align: middle;\n",
       "    }\n",
       "\n",
       "    .dataframe tbody tr th {\n",
       "        vertical-align: top;\n",
       "    }\n",
       "\n",
       "    .dataframe thead th {\n",
       "        text-align: right;\n",
       "    }\n",
       "</style>\n",
       "<table border=\"1\" class=\"dataframe\">\n",
       "  <thead>\n",
       "    <tr style=\"text-align: right;\">\n",
       "      <th></th>\n",
       "      <th>Date</th>\n",
       "      <th>High</th>\n",
       "      <th>Low</th>\n",
       "      <th>Open</th>\n",
       "      <th>Close</th>\n",
       "      <th>Volume</th>\n",
       "      <th>Adj Close</th>\n",
       "    </tr>\n",
       "  </thead>\n",
       "  <tbody>\n",
       "    <tr>\n",
       "      <th>0</th>\n",
       "      <td>2002-01-02</td>\n",
       "      <td>121.500000</td>\n",
       "      <td>119.800003</td>\n",
       "      <td>120.599999</td>\n",
       "      <td>121.500000</td>\n",
       "      <td>6862800</td>\n",
       "      <td>84.677422</td>\n",
       "    </tr>\n",
       "    <tr>\n",
       "      <th>1</th>\n",
       "      <td>2002-01-03</td>\n",
       "      <td>124.220001</td>\n",
       "      <td>120.250000</td>\n",
       "      <td>121.500000</td>\n",
       "      <td>123.660004</td>\n",
       "      <td>8621700</td>\n",
       "      <td>86.182800</td>\n",
       "    </tr>\n",
       "    <tr>\n",
       "      <th>2</th>\n",
       "      <td>2002-01-04</td>\n",
       "      <td>125.599999</td>\n",
       "      <td>123.980003</td>\n",
       "      <td>124.050003</td>\n",
       "      <td>125.599999</td>\n",
       "      <td>8405200</td>\n",
       "      <td>87.534859</td>\n",
       "    </tr>\n",
       "    <tr>\n",
       "      <th>3</th>\n",
       "      <td>2002-01-07</td>\n",
       "      <td>126.190002</td>\n",
       "      <td>123.699997</td>\n",
       "      <td>125.000000</td>\n",
       "      <td>124.050003</td>\n",
       "      <td>5939600</td>\n",
       "      <td>86.454575</td>\n",
       "    </tr>\n",
       "    <tr>\n",
       "      <th>4</th>\n",
       "      <td>2002-01-08</td>\n",
       "      <td>125.199997</td>\n",
       "      <td>123.730003</td>\n",
       "      <td>124.250000</td>\n",
       "      <td>124.699997</td>\n",
       "      <td>5311800</td>\n",
       "      <td>86.907600</td>\n",
       "    </tr>\n",
       "  </tbody>\n",
       "</table>\n",
       "</div>"
      ],
      "text/plain": [
       "        Date        High         Low        Open       Close   Volume  \\\n",
       "0 2002-01-02  121.500000  119.800003  120.599999  121.500000  6862800   \n",
       "1 2002-01-03  124.220001  120.250000  121.500000  123.660004  8621700   \n",
       "2 2002-01-04  125.599999  123.980003  124.050003  125.599999  8405200   \n",
       "3 2002-01-07  126.190002  123.699997  125.000000  124.050003  5939600   \n",
       "4 2002-01-08  125.199997  123.730003  124.250000  124.699997  5311800   \n",
       "\n",
       "   Adj Close  \n",
       "0  84.677422  \n",
       "1  86.182800  \n",
       "2  87.534859  \n",
       "3  86.454575  \n",
       "4  86.907600  "
      ]
     },
     "execution_count": 53,
     "metadata": {},
     "output_type": "execute_result"
    }
   ],
   "source": [
    "df_features = df_ORIGINAL\n",
    "df_features['Date'] = pd.to_datetime(df_features['Date'])\n",
    "df_features.head()"
   ]
  },
  {
   "cell_type": "code",
   "execution_count": null,
   "metadata": {},
   "outputs": [],
   "source": []
  },
  {
   "cell_type": "code",
   "execution_count": 168,
   "metadata": {},
   "outputs": [],
   "source": [
    "### Create Lag Features\n",
    "# this is exactly what the book does for create_lag_features from chapter 29\n",
    "def create_lag_features(df, lag_days):\n",
    "    df_ret = df.copy()\n",
    "    \n",
    "    # calculate today's percentage lag\n",
    "#     df_ret['Today'] = np.nan\n",
    "#     for i in range(1,len(df)):\n",
    "#         df_ret['Today'][i]=(df_ret['Adj Close'][i]/df_ret['Adj Close'][i-1])-1 \n",
    "    \n",
    "    # iterate through the lag days to generate lag values up to lag_days + 1\n",
    "    for i in range(1,lag_days + 1):\n",
    "        df_lag = df_ret[['Date', 'Adj Close']].copy()\n",
    "        # generate dataframe to shift index by i day. 415 is number of stocks\n",
    "        df_lag['Date'] = df_lag['Date'].shift(-1)\n",
    "        df_lag.columns = ['Date', 'lag' + str(i)]\n",
    "        # combine the valuelag\n",
    "        df_ret = pd.merge(df_ret, df_lag, how = 'left', left_on = ['Date'], right_on = ['Date'])\n",
    "    \n",
    "    #frees memory\n",
    "    del df_lag\n",
    "    \n",
    "    df_ret['Today'] = (df_ret['Adj Close'] / df_ret['lag1'])-1\n",
    "    \n",
    "    for i in range(2,lag_days+1):\n",
    "        df_ret['lag'+str(i)]=df_ret['lag'+str(i)].shift(i-1)\n",
    "        \n",
    "    df_ret = df_ret[['Date', 'High', 'Low', 'Open', 'Close', 'Volume', 'Adj Close', 'Today','lag1', 'lag2', 'lag3', 'lag4', 'lag5']]\n",
    "    df_ret = df_ret.iloc[lag_days:]\n",
    "    return df_ret"
   ]
  },
  {
   "cell_type": "code",
   "execution_count": 192,
   "metadata": {},
   "outputs": [
    {
     "data": {
      "text/html": [
       "<div>\n",
       "<style scoped>\n",
       "    .dataframe tbody tr th:only-of-type {\n",
       "        vertical-align: middle;\n",
       "    }\n",
       "\n",
       "    .dataframe tbody tr th {\n",
       "        vertical-align: top;\n",
       "    }\n",
       "\n",
       "    .dataframe thead th {\n",
       "        text-align: right;\n",
       "    }\n",
       "</style>\n",
       "<table border=\"1\" class=\"dataframe\">\n",
       "  <thead>\n",
       "    <tr style=\"text-align: right;\">\n",
       "      <th></th>\n",
       "      <th>Date</th>\n",
       "      <th>High</th>\n",
       "      <th>Low</th>\n",
       "      <th>Open</th>\n",
       "      <th>Close</th>\n",
       "      <th>Volume</th>\n",
       "      <th>Adj Close</th>\n",
       "      <th>Today</th>\n",
       "      <th>lag1</th>\n",
       "      <th>lag2</th>\n",
       "      <th>lag3</th>\n",
       "      <th>lag4</th>\n",
       "      <th>lag5</th>\n",
       "    </tr>\n",
       "  </thead>\n",
       "  <tbody>\n",
       "    <tr>\n",
       "      <th>5</th>\n",
       "      <td>2002-01-09</td>\n",
       "      <td>126.389999</td>\n",
       "      <td>124.150001</td>\n",
       "      <td>124.699997</td>\n",
       "      <td>124.489998</td>\n",
       "      <td>6839900</td>\n",
       "      <td>86.761269</td>\n",
       "      <td>-0.001684</td>\n",
       "      <td>86.907600</td>\n",
       "      <td>86.454575</td>\n",
       "      <td>87.534859</td>\n",
       "      <td>86.182800</td>\n",
       "      <td>84.677422</td>\n",
       "    </tr>\n",
       "    <tr>\n",
       "      <th>6</th>\n",
       "      <td>2002-01-10</td>\n",
       "      <td>124.000000</td>\n",
       "      <td>121.419998</td>\n",
       "      <td>123.750000</td>\n",
       "      <td>122.139999</td>\n",
       "      <td>8926300</td>\n",
       "      <td>85.123428</td>\n",
       "      <td>-0.018878</td>\n",
       "      <td>86.761269</td>\n",
       "      <td>86.907600</td>\n",
       "      <td>86.454575</td>\n",
       "      <td>87.534859</td>\n",
       "      <td>86.182800</td>\n",
       "    </tr>\n",
       "    <tr>\n",
       "      <th>7</th>\n",
       "      <td>2002-01-11</td>\n",
       "      <td>122.180000</td>\n",
       "      <td>120.279999</td>\n",
       "      <td>121.500000</td>\n",
       "      <td>120.309998</td>\n",
       "      <td>4797800</td>\n",
       "      <td>83.848038</td>\n",
       "      <td>-0.014983</td>\n",
       "      <td>85.123428</td>\n",
       "      <td>86.761269</td>\n",
       "      <td>86.907600</td>\n",
       "      <td>86.454575</td>\n",
       "      <td>87.534859</td>\n",
       "    </tr>\n",
       "    <tr>\n",
       "      <th>8</th>\n",
       "      <td>2002-01-14</td>\n",
       "      <td>120.089996</td>\n",
       "      <td>117.099999</td>\n",
       "      <td>120.000000</td>\n",
       "      <td>118.050003</td>\n",
       "      <td>10026700</td>\n",
       "      <td>82.273003</td>\n",
       "      <td>-0.018784</td>\n",
       "      <td>83.848038</td>\n",
       "      <td>85.123428</td>\n",
       "      <td>86.761269</td>\n",
       "      <td>86.907600</td>\n",
       "      <td>86.454575</td>\n",
       "    </tr>\n",
       "    <tr>\n",
       "      <th>9</th>\n",
       "      <td>2002-01-15</td>\n",
       "      <td>119.699997</td>\n",
       "      <td>117.720001</td>\n",
       "      <td>118.050003</td>\n",
       "      <td>118.849999</td>\n",
       "      <td>5647900</td>\n",
       "      <td>82.830559</td>\n",
       "      <td>0.006777</td>\n",
       "      <td>82.273003</td>\n",
       "      <td>83.848038</td>\n",
       "      <td>85.123428</td>\n",
       "      <td>86.761269</td>\n",
       "      <td>86.907600</td>\n",
       "    </tr>\n",
       "    <tr>\n",
       "      <th>10</th>\n",
       "      <td>2002-01-16</td>\n",
       "      <td>118.750000</td>\n",
       "      <td>117.250000</td>\n",
       "      <td>118.000000</td>\n",
       "      <td>117.400001</td>\n",
       "      <td>5366300</td>\n",
       "      <td>81.819984</td>\n",
       "      <td>-0.012201</td>\n",
       "      <td>82.830559</td>\n",
       "      <td>82.273003</td>\n",
       "      <td>83.848038</td>\n",
       "      <td>85.123428</td>\n",
       "      <td>86.761269</td>\n",
       "    </tr>\n",
       "    <tr>\n",
       "      <th>11</th>\n",
       "      <td>2002-01-17</td>\n",
       "      <td>120.550003</td>\n",
       "      <td>117.260002</td>\n",
       "      <td>119.849999</td>\n",
       "      <td>119.900001</td>\n",
       "      <td>11153700</td>\n",
       "      <td>83.562317</td>\n",
       "      <td>0.021295</td>\n",
       "      <td>81.819984</td>\n",
       "      <td>82.830559</td>\n",
       "      <td>82.273003</td>\n",
       "      <td>83.848038</td>\n",
       "      <td>85.123428</td>\n",
       "    </tr>\n",
       "  </tbody>\n",
       "</table>\n",
       "</div>"
      ],
      "text/plain": [
       "         Date        High         Low        Open       Close    Volume  \\\n",
       "5  2002-01-09  126.389999  124.150001  124.699997  124.489998   6839900   \n",
       "6  2002-01-10  124.000000  121.419998  123.750000  122.139999   8926300   \n",
       "7  2002-01-11  122.180000  120.279999  121.500000  120.309998   4797800   \n",
       "8  2002-01-14  120.089996  117.099999  120.000000  118.050003  10026700   \n",
       "9  2002-01-15  119.699997  117.720001  118.050003  118.849999   5647900   \n",
       "10 2002-01-16  118.750000  117.250000  118.000000  117.400001   5366300   \n",
       "11 2002-01-17  120.550003  117.260002  119.849999  119.900001  11153700   \n",
       "\n",
       "    Adj Close     Today       lag1       lag2       lag3       lag4       lag5  \n",
       "5   86.761269 -0.001684  86.907600  86.454575  87.534859  86.182800  84.677422  \n",
       "6   85.123428 -0.018878  86.761269  86.907600  86.454575  87.534859  86.182800  \n",
       "7   83.848038 -0.014983  85.123428  86.761269  86.907600  86.454575  87.534859  \n",
       "8   82.273003 -0.018784  83.848038  85.123428  86.761269  86.907600  86.454575  \n",
       "9   82.830559  0.006777  82.273003  83.848038  85.123428  86.761269  86.907600  \n",
       "10  81.819984 -0.012201  82.830559  82.273003  83.848038  85.123428  86.761269  \n",
       "11  83.562317  0.021295  81.819984  82.830559  82.273003  83.848038  85.123428  "
      ]
     },
     "execution_count": 192,
     "metadata": {},
     "output_type": "execute_result"
    }
   ],
   "source": [
    "# Sanity Check\n",
    "df_1 = create_lag_features(df_features, 5)\n",
    "df_1.head(7)\n"
   ]
  },
  {
   "cell_type": "code",
   "execution_count": null,
   "metadata": {},
   "outputs": [],
   "source": []
  },
  {
   "cell_type": "code",
   "execution_count": 185,
   "metadata": {},
   "outputs": [],
   "source": [
    "def retrieve_dataset_for_one(df):\n",
    "    # selecting dataframe\n",
    "    X_one = df \n",
    "    \n",
    "#     # rename columns in dataframe\n",
    "#     a = ['Date', 'High', 'Low', 'Open', 'Close', 'Volume', 'Adj Close', 'Today']\n",
    "#     for i in range(1,len(list(df))-7):\n",
    "#         a.append('lag' + str(i))\n",
    "        \n",
    "#     X_one.columns = a\n",
    "\n",
    "    X_one = X_one.reset_index(drop = True)\n",
    "    \n",
    "    X_one = standard_deviation(X_one, 14)\n",
    "\n",
    "    X_one = relative_strength_index(X_one, 14) # periods\n",
    "    X_one = average_directional_movement_index(X_one, 14, 13) # n, n_ADX\n",
    "    X_one = moving_average(X_one, 21) # periods\n",
    "    X_one = exponential_moving_average(X_one, 21) # periods\n",
    "    X_one = momentum(X_one, 14) # \n",
    "\n",
    "    X_one = average_true_range(X_one, 14)\n",
    "    X_one = bollinger_bands(X_one, 21)\n",
    "    X_one = ppsr(X_one)\n",
    "    X_one = stochastic_oscillator_k(X_one)\n",
    "    X_one = stochastic_oscillator_d(X_one, 14)\n",
    "    X_one = trix(X_one, 14)\n",
    "    X_one = macd(X_one, 26, 12)\n",
    "    X_one = mass_index(X_one)\n",
    "    X_one = vortex_indicator(X_one, 14)\n",
    "\n",
    "    X_one = kst_oscillator(X_one, 10, 10, 10, 15, 10, 15, 20, 30)\n",
    "    X_one = true_strength_index(X_one, 25, 13)\n",
    "\n",
    "    #X_one = accumulation_distribution(X_one, 14) # Causes Problems, apparently\n",
    "    X_one = chaikin_oscillator(X_one)\n",
    "    X_one = money_flow_index(X_one, 14)\n",
    "    X_one = on_balance_volume(X_one, 14)\n",
    "    X_one = force_index(X_one, 14)\n",
    "    X_one = ease_of_movement(X_one, 14)\n",
    "    X_one = commodity_channel_index(X_one, 14)\n",
    "    X_one = keltner_channel(X_one, 14)\n",
    "    X_one = ultimate_oscillator(X_one)\n",
    "    X_one = donchian_channel(X_one, 14)\n",
    "    \n",
    "    # drop earlier data with missing lag features\n",
    "    X_one.dropna(inplace=True)\n",
    "    X_one = X_one.reset_index(drop = True)\n",
    "    \n",
    "    return X_one"
   ]
  },
  {
   "cell_type": "code",
   "execution_count": 186,
   "metadata": {},
   "outputs": [
    {
     "data": {
      "text/html": [
       "<div>\n",
       "<style scoped>\n",
       "    .dataframe tbody tr th:only-of-type {\n",
       "        vertical-align: middle;\n",
       "    }\n",
       "\n",
       "    .dataframe tbody tr th {\n",
       "        vertical-align: top;\n",
       "    }\n",
       "\n",
       "    .dataframe thead th {\n",
       "        text-align: right;\n",
       "    }\n",
       "</style>\n",
       "<table border=\"1\" class=\"dataframe\">\n",
       "  <thead>\n",
       "    <tr style=\"text-align: right;\">\n",
       "      <th></th>\n",
       "      <th>Date</th>\n",
       "      <th>High</th>\n",
       "      <th>Low</th>\n",
       "      <th>Open</th>\n",
       "      <th>Close</th>\n",
       "      <th>Volume</th>\n",
       "      <th>Adj Close</th>\n",
       "      <th>Today</th>\n",
       "      <th>lag1</th>\n",
       "      <th>lag2</th>\n",
       "      <th>...</th>\n",
       "      <th>MFI_14</th>\n",
       "      <th>OBV_14</th>\n",
       "      <th>Force_14</th>\n",
       "      <th>EoM_14</th>\n",
       "      <th>CCI_14</th>\n",
       "      <th>KelChM_14</th>\n",
       "      <th>KelChU_14</th>\n",
       "      <th>KelChD_14</th>\n",
       "      <th>Ultimate_Osc</th>\n",
       "      <th>Donchian_14</th>\n",
       "    </tr>\n",
       "  </thead>\n",
       "  <tbody>\n",
       "    <tr>\n",
       "      <th>0</th>\n",
       "      <td>2002-03-13</td>\n",
       "      <td>108.650001</td>\n",
       "      <td>106.699997</td>\n",
       "      <td>108.300003</td>\n",
       "      <td>107.180000</td>\n",
       "      <td>6409200</td>\n",
       "      <td>74.795845</td>\n",
       "      <td>-0.012166</td>\n",
       "      <td>75.717003</td>\n",
       "      <td>73.441994</td>\n",
       "      <td>...</td>\n",
       "      <td>0.714286</td>\n",
       "      <td>3.091543e+06</td>\n",
       "      <td>-4.020301e+07</td>\n",
       "      <td>2.272485e-07</td>\n",
       "      <td>1.199477</td>\n",
       "      <td>102.793809</td>\n",
       "      <td>105.742380</td>\n",
       "      <td>99.845238</td>\n",
       "      <td>3.642056</td>\n",
       "      <td>13.389999</td>\n",
       "    </tr>\n",
       "    <tr>\n",
       "      <th>1</th>\n",
       "      <td>2002-03-14</td>\n",
       "      <td>107.949997</td>\n",
       "      <td>106.589996</td>\n",
       "      <td>107.019997</td>\n",
       "      <td>106.599999</td>\n",
       "      <td>5335500</td>\n",
       "      <td>74.391068</td>\n",
       "      <td>-0.005412</td>\n",
       "      <td>74.795845</td>\n",
       "      <td>75.717003</td>\n",
       "      <td>...</td>\n",
       "      <td>0.642857</td>\n",
       "      <td>1.962464e+06</td>\n",
       "      <td>-4.185922e+07</td>\n",
       "      <td>2.286739e-07</td>\n",
       "      <td>0.944585</td>\n",
       "      <td>103.454047</td>\n",
       "      <td>106.254047</td>\n",
       "      <td>100.654047</td>\n",
       "      <td>3.354306</td>\n",
       "      <td>13.389999</td>\n",
       "    </tr>\n",
       "    <tr>\n",
       "      <th>2</th>\n",
       "      <td>2002-03-15</td>\n",
       "      <td>107.449997</td>\n",
       "      <td>105.589996</td>\n",
       "      <td>106.550003</td>\n",
       "      <td>106.790001</td>\n",
       "      <td>10864100</td>\n",
       "      <td>74.523666</td>\n",
       "      <td>0.001782</td>\n",
       "      <td>74.391068</td>\n",
       "      <td>74.795845</td>\n",
       "      <td>...</td>\n",
       "      <td>0.571429</td>\n",
       "      <td>3.445814e+06</td>\n",
       "      <td>8.161435e+06</td>\n",
       "      <td>2.086708e-07</td>\n",
       "      <td>0.716336</td>\n",
       "      <td>104.053094</td>\n",
       "      <td>106.833809</td>\n",
       "      <td>101.272380</td>\n",
       "      <td>3.339650</td>\n",
       "      <td>13.389999</td>\n",
       "    </tr>\n",
       "    <tr>\n",
       "      <th>3</th>\n",
       "      <td>2002-03-18</td>\n",
       "      <td>108.639999</td>\n",
       "      <td>106.230003</td>\n",
       "      <td>107.099999</td>\n",
       "      <td>106.349999</td>\n",
       "      <td>5301200</td>\n",
       "      <td>74.216637</td>\n",
       "      <td>-0.004120</td>\n",
       "      <td>74.523666</td>\n",
       "      <td>74.391068</td>\n",
       "      <td>...</td>\n",
       "      <td>0.642857</td>\n",
       "      <td>3.898193e+06</td>\n",
       "      <td>-5.826634e+07</td>\n",
       "      <td>2.500726e-07</td>\n",
       "      <td>0.753866</td>\n",
       "      <td>104.740952</td>\n",
       "      <td>107.465237</td>\n",
       "      <td>102.016666</td>\n",
       "      <td>3.416617</td>\n",
       "      <td>13.389999</td>\n",
       "    </tr>\n",
       "    <tr>\n",
       "      <th>4</th>\n",
       "      <td>2002-03-19</td>\n",
       "      <td>108.050003</td>\n",
       "      <td>106.489998</td>\n",
       "      <td>106.849999</td>\n",
       "      <td>107.489998</td>\n",
       "      <td>4614800</td>\n",
       "      <td>75.012154</td>\n",
       "      <td>0.010719</td>\n",
       "      <td>74.216637</td>\n",
       "      <td>74.523666</td>\n",
       "      <td>...</td>\n",
       "      <td>0.642857</td>\n",
       "      <td>3.372200e+06</td>\n",
       "      <td>-7.113525e+07</td>\n",
       "      <td>2.263920e-07</td>\n",
       "      <td>0.770933</td>\n",
       "      <td>105.388333</td>\n",
       "      <td>107.966189</td>\n",
       "      <td>102.810476</td>\n",
       "      <td>3.647240</td>\n",
       "      <td>13.389999</td>\n",
       "    </tr>\n",
       "  </tbody>\n",
       "</table>\n",
       "<p>5 rows × 50 columns</p>\n",
       "</div>"
      ],
      "text/plain": [
       "        Date        High         Low        Open       Close    Volume  \\\n",
       "0 2002-03-13  108.650001  106.699997  108.300003  107.180000   6409200   \n",
       "1 2002-03-14  107.949997  106.589996  107.019997  106.599999   5335500   \n",
       "2 2002-03-15  107.449997  105.589996  106.550003  106.790001  10864100   \n",
       "3 2002-03-18  108.639999  106.230003  107.099999  106.349999   5301200   \n",
       "4 2002-03-19  108.050003  106.489998  106.849999  107.489998   4614800   \n",
       "\n",
       "   Adj Close     Today       lag1       lag2     ...         MFI_14  \\\n",
       "0  74.795845 -0.012166  75.717003  73.441994     ...       0.714286   \n",
       "1  74.391068 -0.005412  74.795845  75.717003     ...       0.642857   \n",
       "2  74.523666  0.001782  74.391068  74.795845     ...       0.571429   \n",
       "3  74.216637 -0.004120  74.523666  74.391068     ...       0.642857   \n",
       "4  75.012154  0.010719  74.216637  74.523666     ...       0.642857   \n",
       "\n",
       "         OBV_14      Force_14        EoM_14    CCI_14   KelChM_14   KelChU_14  \\\n",
       "0  3.091543e+06 -4.020301e+07  2.272485e-07  1.199477  102.793809  105.742380   \n",
       "1  1.962464e+06 -4.185922e+07  2.286739e-07  0.944585  103.454047  106.254047   \n",
       "2  3.445814e+06  8.161435e+06  2.086708e-07  0.716336  104.053094  106.833809   \n",
       "3  3.898193e+06 -5.826634e+07  2.500726e-07  0.753866  104.740952  107.465237   \n",
       "4  3.372200e+06 -7.113525e+07  2.263920e-07  0.770933  105.388333  107.966189   \n",
       "\n",
       "    KelChD_14  Ultimate_Osc  Donchian_14  \n",
       "0   99.845238      3.642056    13.389999  \n",
       "1  100.654047      3.354306    13.389999  \n",
       "2  101.272380      3.339650    13.389999  \n",
       "3  102.016666      3.416617    13.389999  \n",
       "4  102.810476      3.647240    13.389999  \n",
       "\n",
       "[5 rows x 50 columns]"
      ]
     },
     "execution_count": 186,
     "metadata": {},
     "output_type": "execute_result"
    }
   ],
   "source": [
    "retrieve_dataset_for_one(df_1).head()"
   ]
  },
  {
   "cell_type": "code",
   "execution_count": 9,
   "metadata": {
    "collapsed": true
   },
   "outputs": [],
   "source": [
    "#???\n",
    "from sklearn import preprocessing\n",
    "le = preprocessing.LabelEncoder()\n",
    "#stockindataset = list(df_comb['Ticker'])\n",
    "df_comb['Ticker'] = le.fit_transform(stockindataset)"
   ]
  },
  {
   "cell_type": "markdown",
   "metadata": {},
   "source": [
    "### DT Model"
   ]
  },
  {
   "cell_type": "markdown",
   "metadata": {},
   "source": [
    "#### Train-Test Split\n",
    "\n",
    "READ THIS - https://machinelearningmastery.com/backtest-machine-learning-models-time-series-forecasting/\n",
    "\n",
    "1) __Train-Test__ split that respect temporal order of observations.  \n",
    "2) __Multiple Train-Test__ splits that respect temporal order of observations.  \n",
    "3) __Walk-Forward Validation__ where a model may be updated each time step new data is received.  "
   ]
  },
  {
   "cell_type": "code",
   "execution_count": 188,
   "metadata": {},
   "outputs": [
    {
     "data": {
      "text/html": [
       "<div>\n",
       "<style scoped>\n",
       "    .dataframe tbody tr th:only-of-type {\n",
       "        vertical-align: middle;\n",
       "    }\n",
       "\n",
       "    .dataframe tbody tr th {\n",
       "        vertical-align: top;\n",
       "    }\n",
       "\n",
       "    .dataframe thead th {\n",
       "        text-align: right;\n",
       "    }\n",
       "</style>\n",
       "<table border=\"1\" class=\"dataframe\">\n",
       "  <thead>\n",
       "    <tr style=\"text-align: right;\">\n",
       "      <th></th>\n",
       "      <th>Date</th>\n",
       "      <th>High</th>\n",
       "      <th>Low</th>\n",
       "      <th>Open</th>\n",
       "      <th>Close</th>\n",
       "      <th>Volume</th>\n",
       "      <th>Adj Close</th>\n",
       "      <th>Today</th>\n",
       "      <th>lag1</th>\n",
       "      <th>lag2</th>\n",
       "      <th>lag3</th>\n",
       "      <th>lag4</th>\n",
       "      <th>lag5</th>\n",
       "    </tr>\n",
       "  </thead>\n",
       "  <tbody>\n",
       "    <tr>\n",
       "      <th>5</th>\n",
       "      <td>2002-01-09</td>\n",
       "      <td>126.389999</td>\n",
       "      <td>124.150001</td>\n",
       "      <td>124.699997</td>\n",
       "      <td>124.489998</td>\n",
       "      <td>6839900</td>\n",
       "      <td>86.761269</td>\n",
       "      <td>-0.001684</td>\n",
       "      <td>86.907600</td>\n",
       "      <td>86.454575</td>\n",
       "      <td>87.534859</td>\n",
       "      <td>86.182800</td>\n",
       "      <td>84.677422</td>\n",
       "    </tr>\n",
       "    <tr>\n",
       "      <th>6</th>\n",
       "      <td>2002-01-10</td>\n",
       "      <td>124.000000</td>\n",
       "      <td>121.419998</td>\n",
       "      <td>123.750000</td>\n",
       "      <td>122.139999</td>\n",
       "      <td>8926300</td>\n",
       "      <td>85.123428</td>\n",
       "      <td>-0.018878</td>\n",
       "      <td>86.761269</td>\n",
       "      <td>86.907600</td>\n",
       "      <td>86.454575</td>\n",
       "      <td>87.534859</td>\n",
       "      <td>86.182800</td>\n",
       "    </tr>\n",
       "    <tr>\n",
       "      <th>7</th>\n",
       "      <td>2002-01-11</td>\n",
       "      <td>122.180000</td>\n",
       "      <td>120.279999</td>\n",
       "      <td>121.500000</td>\n",
       "      <td>120.309998</td>\n",
       "      <td>4797800</td>\n",
       "      <td>83.848038</td>\n",
       "      <td>-0.014983</td>\n",
       "      <td>85.123428</td>\n",
       "      <td>86.761269</td>\n",
       "      <td>86.907600</td>\n",
       "      <td>86.454575</td>\n",
       "      <td>87.534859</td>\n",
       "    </tr>\n",
       "    <tr>\n",
       "      <th>8</th>\n",
       "      <td>2002-01-14</td>\n",
       "      <td>120.089996</td>\n",
       "      <td>117.099999</td>\n",
       "      <td>120.000000</td>\n",
       "      <td>118.050003</td>\n",
       "      <td>10026700</td>\n",
       "      <td>82.273003</td>\n",
       "      <td>-0.018784</td>\n",
       "      <td>83.848038</td>\n",
       "      <td>85.123428</td>\n",
       "      <td>86.761269</td>\n",
       "      <td>86.907600</td>\n",
       "      <td>86.454575</td>\n",
       "    </tr>\n",
       "    <tr>\n",
       "      <th>9</th>\n",
       "      <td>2002-01-15</td>\n",
       "      <td>119.699997</td>\n",
       "      <td>117.720001</td>\n",
       "      <td>118.050003</td>\n",
       "      <td>118.849999</td>\n",
       "      <td>5647900</td>\n",
       "      <td>82.830559</td>\n",
       "      <td>0.006777</td>\n",
       "      <td>82.273003</td>\n",
       "      <td>83.848038</td>\n",
       "      <td>85.123428</td>\n",
       "      <td>86.761269</td>\n",
       "      <td>86.907600</td>\n",
       "    </tr>\n",
       "  </tbody>\n",
       "</table>\n",
       "</div>"
      ],
      "text/plain": [
       "        Date        High         Low        Open       Close    Volume  \\\n",
       "5 2002-01-09  126.389999  124.150001  124.699997  124.489998   6839900   \n",
       "6 2002-01-10  124.000000  121.419998  123.750000  122.139999   8926300   \n",
       "7 2002-01-11  122.180000  120.279999  121.500000  120.309998   4797800   \n",
       "8 2002-01-14  120.089996  117.099999  120.000000  118.050003  10026700   \n",
       "9 2002-01-15  119.699997  117.720001  118.050003  118.849999   5647900   \n",
       "\n",
       "   Adj Close     Today       lag1       lag2       lag3       lag4       lag5  \n",
       "5  86.761269 -0.001684  86.907600  86.454575  87.534859  86.182800  84.677422  \n",
       "6  85.123428 -0.018878  86.761269  86.907600  86.454575  87.534859  86.182800  \n",
       "7  83.848038 -0.014983  85.123428  86.761269  86.907600  86.454575  87.534859  \n",
       "8  82.273003 -0.018784  83.848038  85.123428  86.761269  86.907600  86.454575  \n",
       "9  82.830559  0.006777  82.273003  83.848038  85.123428  86.761269  86.907600  "
      ]
     },
     "execution_count": 188,
     "metadata": {},
     "output_type": "execute_result"
    }
   ],
   "source": [
    "df_1.head()"
   ]
  },
  {
   "cell_type": "code",
   "execution_count": 195,
   "metadata": {},
   "outputs": [
    {
     "data": {
      "text/plain": [
       "5   -0.001684\n",
       "6   -0.018878\n",
       "7   -0.014983\n",
       "8   -0.018784\n",
       "9    0.006777\n",
       "Name: Today, dtype: float64"
      ]
     },
     "execution_count": 195,
     "metadata": {},
     "output_type": "execute_result"
    }
   ],
   "source": [
    "# do time series split DOING NUMBER 2\n",
    "splits = TimeSeriesSplit(n_splits=5)\n",
    "\n",
    "# stores all labels\n",
    "y = df_1['Today']\n",
    "y.head()"
   ]
  },
  {
   "cell_type": "code",
   "execution_count": 196,
   "metadata": {},
   "outputs": [],
   "source": [
    "# drop columns not being used\n",
    "df_1.drop(['Open','Close','Low','High','Today'], axis = 1, inplace = True)"
   ]
  },
  {
   "cell_type": "code",
   "execution_count": 201,
   "metadata": {},
   "outputs": [
    {
     "name": "stdout",
     "output_type": "stream",
     "text": [
      "           Date   Volume   Adj Close        lag1        lag2        lag3  \\\n",
      "4028 2018-01-02  4202500  147.574875  146.780777  147.373947  146.503357   \n",
      "4029 2018-01-03  9441600  151.631393  147.574875  146.780777  147.373947   \n",
      "4030 2018-01-04  7556200  154.702484  151.631393  147.574875  146.780777   \n",
      "4031 2018-01-05  5195800  155.458298  154.702484  151.631393  147.574875   \n",
      "4032 2018-01-08  5237500  156.395889  155.458298  154.702484  151.631393   \n",
      "\n",
      "            lag4        lag5  \n",
      "4028  146.216324  145.900604  \n",
      "4029  146.503357  146.216324  \n",
      "4030  147.373947  146.503357  \n",
      "4031  146.780777  147.373947  \n",
      "4032  147.574875  146.780777  \n",
      "4028    0.005410\n",
      "4029    0.027488\n",
      "4030    0.020254\n",
      "4031    0.004886\n",
      "4032    0.006031\n",
      "Name: Today, dtype: float64\n"
     ]
    }
   ],
   "source": [
    "# creates all test data which is all after may 2016\n",
    "X_test = df_1.loc[(df_1['Date'] >= '2018-01-01'),:]\n",
    "y_test = y[X_test.index]"
   ]
  },
  {
   "cell_type": "code",
   "execution_count": 230,
   "metadata": {},
   "outputs": [
    {
     "data": {
      "text/html": [
       "<div>\n",
       "<style scoped>\n",
       "    .dataframe tbody tr th:only-of-type {\n",
       "        vertical-align: middle;\n",
       "    }\n",
       "\n",
       "    .dataframe tbody tr th {\n",
       "        vertical-align: top;\n",
       "    }\n",
       "\n",
       "    .dataframe thead th {\n",
       "        text-align: right;\n",
       "    }\n",
       "</style>\n",
       "<table border=\"1\" class=\"dataframe\">\n",
       "  <thead>\n",
       "    <tr style=\"text-align: right;\">\n",
       "      <th></th>\n",
       "      <th>Date</th>\n",
       "      <th>Volume</th>\n",
       "      <th>Adj Close</th>\n",
       "      <th>lag1</th>\n",
       "      <th>lag2</th>\n",
       "      <th>lag3</th>\n",
       "      <th>lag4</th>\n",
       "      <th>lag5</th>\n",
       "    </tr>\n",
       "  </thead>\n",
       "  <tbody>\n",
       "    <tr>\n",
       "      <th>5</th>\n",
       "      <td>2002-01-09</td>\n",
       "      <td>6839900</td>\n",
       "      <td>86.761269</td>\n",
       "      <td>86.907600</td>\n",
       "      <td>86.454575</td>\n",
       "      <td>87.534859</td>\n",
       "      <td>86.182800</td>\n",
       "      <td>84.677422</td>\n",
       "    </tr>\n",
       "    <tr>\n",
       "      <th>6</th>\n",
       "      <td>2002-01-10</td>\n",
       "      <td>8926300</td>\n",
       "      <td>85.123428</td>\n",
       "      <td>86.761269</td>\n",
       "      <td>86.907600</td>\n",
       "      <td>86.454575</td>\n",
       "      <td>87.534859</td>\n",
       "      <td>86.182800</td>\n",
       "    </tr>\n",
       "    <tr>\n",
       "      <th>7</th>\n",
       "      <td>2002-01-11</td>\n",
       "      <td>4797800</td>\n",
       "      <td>83.848038</td>\n",
       "      <td>85.123428</td>\n",
       "      <td>86.761269</td>\n",
       "      <td>86.907600</td>\n",
       "      <td>86.454575</td>\n",
       "      <td>87.534859</td>\n",
       "    </tr>\n",
       "    <tr>\n",
       "      <th>8</th>\n",
       "      <td>2002-01-14</td>\n",
       "      <td>10026700</td>\n",
       "      <td>82.273003</td>\n",
       "      <td>83.848038</td>\n",
       "      <td>85.123428</td>\n",
       "      <td>86.761269</td>\n",
       "      <td>86.907600</td>\n",
       "      <td>86.454575</td>\n",
       "    </tr>\n",
       "    <tr>\n",
       "      <th>9</th>\n",
       "      <td>2002-01-15</td>\n",
       "      <td>5647900</td>\n",
       "      <td>82.830559</td>\n",
       "      <td>82.273003</td>\n",
       "      <td>83.848038</td>\n",
       "      <td>85.123428</td>\n",
       "      <td>86.761269</td>\n",
       "      <td>86.907600</td>\n",
       "    </tr>\n",
       "  </tbody>\n",
       "</table>\n",
       "</div>"
      ],
      "text/plain": [
       "        Date    Volume  Adj Close       lag1       lag2       lag3       lag4  \\\n",
       "5 2002-01-09   6839900  86.761269  86.907600  86.454575  87.534859  86.182800   \n",
       "6 2002-01-10   8926300  85.123428  86.761269  86.907600  86.454575  87.534859   \n",
       "7 2002-01-11   4797800  83.848038  85.123428  86.761269  86.907600  86.454575   \n",
       "8 2002-01-14  10026700  82.273003  83.848038  85.123428  86.761269  86.907600   \n",
       "9 2002-01-15   5647900  82.830559  82.273003  83.848038  85.123428  86.761269   \n",
       "\n",
       "        lag5  \n",
       "5  84.677422  \n",
       "6  86.182800  \n",
       "7  87.534859  \n",
       "8  86.454575  \n",
       "9  86.907600  "
      ]
     },
     "execution_count": 230,
     "metadata": {},
     "output_type": "execute_result"
    }
   ],
   "source": [
    "df_1[df_1['Date'] <= '2017-12-31'].head()"
   ]
  },
  {
   "cell_type": "code",
   "execution_count": 229,
   "metadata": {},
   "outputs": [
    {
     "data": {
      "text/html": [
       "<div>\n",
       "<style scoped>\n",
       "    .dataframe tbody tr th:only-of-type {\n",
       "        vertical-align: middle;\n",
       "    }\n",
       "\n",
       "    .dataframe tbody tr th {\n",
       "        vertical-align: top;\n",
       "    }\n",
       "\n",
       "    .dataframe thead th {\n",
       "        text-align: right;\n",
       "    }\n",
       "</style>\n",
       "<table border=\"1\" class=\"dataframe\">\n",
       "  <thead>\n",
       "    <tr style=\"text-align: right;\">\n",
       "      <th></th>\n",
       "      <th>Date</th>\n",
       "      <th>Volume</th>\n",
       "      <th>Adj Close</th>\n",
       "      <th>lag1</th>\n",
       "      <th>lag2</th>\n",
       "      <th>lag3</th>\n",
       "      <th>lag4</th>\n",
       "      <th>lag5</th>\n",
       "    </tr>\n",
       "  </thead>\n",
       "  <tbody>\n",
       "    <tr>\n",
       "      <th>5</th>\n",
       "      <td>2002-01-09</td>\n",
       "      <td>6839900</td>\n",
       "      <td>86.761269</td>\n",
       "      <td>86.907600</td>\n",
       "      <td>86.454575</td>\n",
       "      <td>87.534859</td>\n",
       "      <td>86.182800</td>\n",
       "      <td>84.677422</td>\n",
       "    </tr>\n",
       "    <tr>\n",
       "      <th>6</th>\n",
       "      <td>2002-01-10</td>\n",
       "      <td>8926300</td>\n",
       "      <td>85.123428</td>\n",
       "      <td>86.761269</td>\n",
       "      <td>86.907600</td>\n",
       "      <td>86.454575</td>\n",
       "      <td>87.534859</td>\n",
       "      <td>86.182800</td>\n",
       "    </tr>\n",
       "    <tr>\n",
       "      <th>7</th>\n",
       "      <td>2002-01-11</td>\n",
       "      <td>4797800</td>\n",
       "      <td>83.848038</td>\n",
       "      <td>85.123428</td>\n",
       "      <td>86.761269</td>\n",
       "      <td>86.907600</td>\n",
       "      <td>86.454575</td>\n",
       "      <td>87.534859</td>\n",
       "    </tr>\n",
       "    <tr>\n",
       "      <th>8</th>\n",
       "      <td>2002-01-14</td>\n",
       "      <td>10026700</td>\n",
       "      <td>82.273003</td>\n",
       "      <td>83.848038</td>\n",
       "      <td>85.123428</td>\n",
       "      <td>86.761269</td>\n",
       "      <td>86.907600</td>\n",
       "      <td>86.454575</td>\n",
       "    </tr>\n",
       "    <tr>\n",
       "      <th>9</th>\n",
       "      <td>2002-01-15</td>\n",
       "      <td>5647900</td>\n",
       "      <td>82.830559</td>\n",
       "      <td>82.273003</td>\n",
       "      <td>83.848038</td>\n",
       "      <td>85.123428</td>\n",
       "      <td>86.761269</td>\n",
       "      <td>86.907600</td>\n",
       "    </tr>\n",
       "  </tbody>\n",
       "</table>\n",
       "</div>"
      ],
      "text/plain": [
       "        Date    Volume  Adj Close       lag1       lag2       lag3       lag4  \\\n",
       "5 2002-01-09   6839900  86.761269  86.907600  86.454575  87.534859  86.182800   \n",
       "6 2002-01-10   8926300  85.123428  86.761269  86.907600  86.454575  87.534859   \n",
       "7 2002-01-11   4797800  83.848038  85.123428  86.761269  86.907600  86.454575   \n",
       "8 2002-01-14  10026700  82.273003  83.848038  85.123428  86.761269  86.907600   \n",
       "9 2002-01-15   5647900  82.830559  82.273003  83.848038  85.123428  86.761269   \n",
       "\n",
       "        lag5  \n",
       "5  84.677422  \n",
       "6  86.182800  \n",
       "7  87.534859  \n",
       "8  86.454575  \n",
       "9  86.907600  "
      ]
     },
     "execution_count": 229,
     "metadata": {},
     "output_type": "execute_result"
    }
   ],
   "source": [
    "df_1.loc[(df_1['Date'] <= uniq_date[len(train_index) - 1]),:].head()\n"
   ]
  },
  {
   "cell_type": "code",
   "execution_count": 231,
   "metadata": {},
   "outputs": [
    {
     "name": "stderr",
     "output_type": "stream",
     "text": [
      "c:\\users\\meenm\\appdata\\local\\programs\\python\\python36\\lib\\site-packages\\ipykernel_launcher.py:18: SettingWithCopyWarning: \n",
      "A value is trying to be set on a copy of a slice from a DataFrame\n",
      "\n",
      "See the caveats in the documentation: http://pandas.pydata.org/pandas-docs/stable/indexing.html#indexing-view-versus-copy\n",
      "c:\\users\\meenm\\appdata\\local\\programs\\python\\python36\\lib\\site-packages\\ipykernel_launcher.py:19: SettingWithCopyWarning: \n",
      "A value is trying to be set on a copy of a slice from a DataFrame\n",
      "\n",
      "See the caveats in the documentation: http://pandas.pydata.org/pandas-docs/stable/indexing.html#indexing-view-versus-copy\n",
      "c:\\users\\meenm\\appdata\\local\\programs\\python\\python36\\lib\\site-packages\\sklearn\\ensemble\\forest.py:248: FutureWarning: The default value of n_estimators will change from 10 in version 0.20 to 100 in 0.22.\n",
      "  \"10 in version 0.20 to 100 in 0.22.\", FutureWarning)\n"
     ]
    },
    {
     "name": "stdout",
     "output_type": "stream",
     "text": [
      "Observations:  917\n",
      "Cutoff date:  2004-10-26 00:00:00\n",
      "Training Observations:  705\n",
      "Testing Observations:  212\n"
     ]
    },
    {
     "name": "stderr",
     "output_type": "stream",
     "text": [
      "c:\\users\\meenm\\appdata\\local\\programs\\python\\python36\\lib\\site-packages\\ipykernel_launcher.py:18: SettingWithCopyWarning: \n",
      "A value is trying to be set on a copy of a slice from a DataFrame\n",
      "\n",
      "See the caveats in the documentation: http://pandas.pydata.org/pandas-docs/stable/indexing.html#indexing-view-versus-copy\n",
      "c:\\users\\meenm\\appdata\\local\\programs\\python\\python36\\lib\\site-packages\\ipykernel_launcher.py:19: SettingWithCopyWarning: \n",
      "A value is trying to be set on a copy of a slice from a DataFrame\n",
      "\n",
      "See the caveats in the documentation: http://pandas.pydata.org/pandas-docs/stable/indexing.html#indexing-view-versus-copy\n",
      "c:\\users\\meenm\\appdata\\local\\programs\\python\\python36\\lib\\site-packages\\sklearn\\ensemble\\forest.py:248: FutureWarning: The default value of n_estimators will change from 10 in version 0.20 to 100 in 0.22.\n",
      "  \"10 in version 0.20 to 100 in 0.22.\", FutureWarning)\n"
     ]
    },
    {
     "name": "stdout",
     "output_type": "stream",
     "text": [
      "Observations:  1622\n",
      "Cutoff date:  2007-08-15 00:00:00\n",
      "Training Observations:  1410\n",
      "Testing Observations:  212\n"
     ]
    },
    {
     "name": "stderr",
     "output_type": "stream",
     "text": [
      "c:\\users\\meenm\\appdata\\local\\programs\\python\\python36\\lib\\site-packages\\ipykernel_launcher.py:18: SettingWithCopyWarning: \n",
      "A value is trying to be set on a copy of a slice from a DataFrame\n",
      "\n",
      "See the caveats in the documentation: http://pandas.pydata.org/pandas-docs/stable/indexing.html#indexing-view-versus-copy\n",
      "c:\\users\\meenm\\appdata\\local\\programs\\python\\python36\\lib\\site-packages\\ipykernel_launcher.py:19: SettingWithCopyWarning: \n",
      "A value is trying to be set on a copy of a slice from a DataFrame\n",
      "\n",
      "See the caveats in the documentation: http://pandas.pydata.org/pandas-docs/stable/indexing.html#indexing-view-versus-copy\n",
      "c:\\users\\meenm\\appdata\\local\\programs\\python\\python36\\lib\\site-packages\\sklearn\\ensemble\\forest.py:248: FutureWarning: The default value of n_estimators will change from 10 in version 0.20 to 100 in 0.22.\n",
      "  \"10 in version 0.20 to 100 in 0.22.\", FutureWarning)\n"
     ]
    },
    {
     "name": "stdout",
     "output_type": "stream",
     "text": [
      "Observations:  2327\n",
      "Cutoff date:  2010-06-03 00:00:00\n",
      "Training Observations:  2115\n",
      "Testing Observations:  212\n"
     ]
    },
    {
     "name": "stderr",
     "output_type": "stream",
     "text": [
      "c:\\users\\meenm\\appdata\\local\\programs\\python\\python36\\lib\\site-packages\\ipykernel_launcher.py:18: SettingWithCopyWarning: \n",
      "A value is trying to be set on a copy of a slice from a DataFrame\n",
      "\n",
      "See the caveats in the documentation: http://pandas.pydata.org/pandas-docs/stable/indexing.html#indexing-view-versus-copy\n",
      "c:\\users\\meenm\\appdata\\local\\programs\\python\\python36\\lib\\site-packages\\ipykernel_launcher.py:19: SettingWithCopyWarning: \n",
      "A value is trying to be set on a copy of a slice from a DataFrame\n",
      "\n",
      "See the caveats in the documentation: http://pandas.pydata.org/pandas-docs/stable/indexing.html#indexing-view-versus-copy\n",
      "c:\\users\\meenm\\appdata\\local\\programs\\python\\python36\\lib\\site-packages\\sklearn\\ensemble\\forest.py:248: FutureWarning: The default value of n_estimators will change from 10 in version 0.20 to 100 in 0.22.\n",
      "  \"10 in version 0.20 to 100 in 0.22.\", FutureWarning)\n"
     ]
    },
    {
     "name": "stdout",
     "output_type": "stream",
     "text": [
      "Observations:  3032\n",
      "Cutoff date:  2013-03-22 00:00:00\n",
      "Training Observations:  2820\n",
      "Testing Observations:  212\n"
     ]
    },
    {
     "name": "stderr",
     "output_type": "stream",
     "text": [
      "c:\\users\\meenm\\appdata\\local\\programs\\python\\python36\\lib\\site-packages\\ipykernel_launcher.py:18: SettingWithCopyWarning: \n",
      "A value is trying to be set on a copy of a slice from a DataFrame\n",
      "\n",
      "See the caveats in the documentation: http://pandas.pydata.org/pandas-docs/stable/indexing.html#indexing-view-versus-copy\n",
      "c:\\users\\meenm\\appdata\\local\\programs\\python\\python36\\lib\\site-packages\\ipykernel_launcher.py:19: SettingWithCopyWarning: \n",
      "A value is trying to be set on a copy of a slice from a DataFrame\n",
      "\n",
      "See the caveats in the documentation: http://pandas.pydata.org/pandas-docs/stable/indexing.html#indexing-view-versus-copy\n",
      "c:\\users\\meenm\\appdata\\local\\programs\\python\\python36\\lib\\site-packages\\sklearn\\ensemble\\forest.py:248: FutureWarning: The default value of n_estimators will change from 10 in version 0.20 to 100 in 0.22.\n",
      "  \"10 in version 0.20 to 100 in 0.22.\", FutureWarning)\n"
     ]
    },
    {
     "name": "stdout",
     "output_type": "stream",
     "text": [
      "Observations:  3737\n",
      "Cutoff date:  2016-01-08 00:00:00\n",
      "Training Observations:  3525\n",
      "Testing Observations:  212\n"
     ]
    }
   ],
   "source": [
    "trainsamples = []\n",
    "model1metrics = []\n",
    "model2metrics = []\n",
    "model3metrics = []\n",
    "model4metrics = []\n",
    "\n",
    "uniq_date = df_1['Date']\n",
    "for train_index, test_index in splits.split(uniq_date):\n",
    "    # do the split for train\n",
    "    X_train = df_1.loc[(df_1['Date'] <= uniq_date[len(train_index) - 1]),:]\n",
    "    y_train = y[X_train.index]\n",
    "\n",
    "    # do the split for test\n",
    "    X_val = df_1.loc[(df_1['Date'] > uniq_date[len(train_index) - 1]) & (df_1['Date'] <= '2016-05-31'),:]\n",
    "    y_val = y[X_val.index]\n",
    "\n",
    "    # drop date\n",
    "    X_train.drop(['Date'], axis = 1, inplace = True)\n",
    "    X_val.drop(['Date'], axis = 1, inplace = True)\n",
    "\n",
    "    # print some useful info\n",
    "    print('Observations: ', (X_train.shape[0] + X_test.shape[0]))\n",
    "    print('Cutoff date: ', uniq_date[len(train_index) - 1])\n",
    "    print('Training Observations: ', (X_train.shape[0]))\n",
    "    print('Testing Observations: ', (X_test.shape[0]))\n",
    "    \n",
    "    trainsamples.append(X_train.shape[0])\n",
    "    \n",
    "    # random forest regression based on default parameter\n",
    "    rf = RandomForestRegressor(random_state = 0)\n",
    "    rf.fit(X_train, y_train)\n",
    "    model1metrics.append([mean_squared_error(y_val, rf.predict(X_val)),r2_score(y_val, rf.predict(X_val))])\n",
    "    \n",
    "    # bagging based on default parameter\n",
    "    bag = BaggingRegressor(DecisionTreeRegressor())\n",
    "    bag.fit(X_train, y_train)\n",
    "    model2metrics.append([mean_squared_error(y_val, bag.predict(X_val)),r2_score(y_val, bag.predict(X_val))])\n",
    "    \n",
    "    # boosting on default parameter\n",
    "    boost = AdaBoostRegressor(DecisionTreeRegressor(), random_state = 0, learning_rate=0.01)\n",
    "    boost.fit(X_train, y_train)\n",
    "    model3metrics.append([mean_squared_error(y_val, boost.predict(X_val)),r2_score(y_val, boost.predict(X_val))])\n",
    "    \n",
    "    # linear regression on default parameter\n",
    "    lr = linear_model.LinearRegression()\n",
    "    lr.fit(X_train, y_train)\n",
    "    model4metrics.append([mean_squared_error(y_val, lr.predict(X_val)),r2_score(y_val, lr.predict(X_val))])"
   ]
  },
  {
   "cell_type": "code",
   "execution_count": 237,
   "metadata": {},
   "outputs": [
    {
     "data": {
      "image/png": "[encoded data removed]",
      "text/plain": [
       "<Figure size 1080x720 with 1 Axes>"
      ]
     },
     "metadata": {
      "needs_background": "light"
     },
     "output_type": "display_data"
    }
   ],
   "source": [
    "plt.plot(trainsamples,[item[0] for item in model1metrics], color = 'r', label = 'Random Forest')\n",
    "plt.plot(trainsamples,[item[0] for item in model2metrics], color = 'g', label = 'Bagging')\n",
    "plt.plot(trainsamples,[item[0] for item in model3metrics], color = 'b', label = 'AdaBoost')\n",
    "plt.plot(trainsamples,[item[0] for item in model4metrics], color = 'orange', label = 'Linear Regression')\n",
    "\n",
    "plt.title('MSE on Validation Data vs Number of Training Samples for TimeSeriesSplit')\n",
    "plt.xlabel('Training Samples')\n",
    "plt.ylabel('MSE')\n",
    "plt.legend()\n",
    "\n",
    "#plt.rcParams['figure.figsize'] = [15,10]\n",
    "\n",
    "plt.show()"
   ]
  },
  {
   "cell_type": "code",
   "execution_count": 236,
   "metadata": {},
   "outputs": [
    {
     "data": {
      "image/png": "[encoded data removed]",
      "text/plain": [
       "<Figure size 1080x720 with 1 Axes>"
      ]
     },
     "metadata": {
      "needs_background": "light"
     },
     "output_type": "display_data"
    }
   ],
   "source": [
    "plt.plot(trainsamples,[item[1] for item in model1metrics], color = 'r', label = 'RandomForest')\n",
    "plt.plot(trainsamples,[item[1] for item in model2metrics], color = 'g', label = 'Bagging')\n",
    "plt.plot(trainsamples,[item[1] for item in model3metrics], color = 'b', label = 'Boosting')\n",
    "plt.plot(trainsamples,[item[1] for item in model4metrics], color = 'orange', label = 'Linear Regression')\n",
    "\n",
    "plt.title('R^2 on Validation Data vs Number of Training Samples for TimeSeriesSplit')\n",
    "plt.xlabel('Training Samples')\n",
    "plt.ylabel('R^2')\n",
    "plt.legend()\n",
    "\n",
    "plt.rcParams['figure.figsize'] = [15,10]\n",
    "\n",
    "plt.show()"
   ]
  },
  {
   "cell_type": "markdown",
   "metadata": {},
   "source": [
    "## All models perform better as training samples increase. Hyperparemeter tune on each of the 4 models on last fold. And do Stacking with LR."
   ]
  },
  {
   "cell_type": "code",
   "execution_count": 238,
   "metadata": {},
   "outputs": [
    {
     "name": "stdout",
     "output_type": "stream",
     "text": [
      "-------------FITTING MODELS-------------\n"
     ]
    },
    {
     "name": "stderr",
     "output_type": "stream",
     "text": [
      "[Parallel(n_jobs=-1)]: Using backend LokyBackend with 4 concurrent workers.\n",
      "[Parallel(n_jobs=-1)]: Done   5 tasks      | elapsed:    3.0s\n",
      "[Parallel(n_jobs=-1)]: Done  10 tasks      | elapsed:    3.4s\n",
      "[Parallel(n_jobs=-1)]: Done  13 out of  18 | elapsed:    4.1s remaining:    1.5s\n",
      "[Parallel(n_jobs=-1)]: Done  15 out of  18 | elapsed:    4.2s remaining:    0.8s\n",
      "[Parallel(n_jobs=-1)]: Done  18 out of  18 | elapsed:    4.7s finished\n",
      "[Parallel(n_jobs=-1)]: Using backend LokyBackend with 4 concurrent workers.\n",
      "[Parallel(n_jobs=-1)]: Done  18 out of  18 | elapsed:    0.0s finished\n"
     ]
    },
    {
     "name": "stdout",
     "output_type": "stream",
     "text": [
      "-------------SCORING MODELS-------------\n"
     ]
    },
    {
     "data": {
      "image/png": "[encoded data removed]",
      "text/plain": [
       "<Figure size 576x288 with 3 Axes>"
      ]
     },
     "metadata": {
      "needs_background": "light"
     },
     "output_type": "display_data"
    },
    {
     "name": "stdout",
     "output_type": "stream",
     "text": [
      "RandomForestRegressor(bootstrap=True, criterion='mse', max_depth=15,\n",
      "           max_features='auto', max_leaf_nodes=None,\n",
      "           min_impurity_decrease=0.0, min_impurity_split=None,\n",
      "           min_samples_leaf=3, min_samples_split=2,\n",
      "           min_weight_fraction_leaf=0.0, n_estimators=20, n_jobs=None,\n",
      "           oob_score=False, random_state=0, verbose=0, warm_start=False)\n"
     ]
    }
   ],
   "source": [
    "rf = RandomForestRegressor(random_state = 0)\n",
    "\n",
    "# hyperparameter tuning on randomforest\n",
    "paramGrid = ParameterGrid({\n",
    "    'n_estimators': [10,15,20],\n",
    "    'max_depth' : [10,15],\n",
    "    'min_samples_leaf': [3,5,10]})\n",
    "    \n",
    "best_model, best_score, all_models, all_scores = pf.bestFit(rf, paramGrid, X_train, y_train, X_val, y_val, metric=mean_squared_error, greater_is_better=False, scoreLabel='MSE')\n",
    "    \n",
    "print(best_model)"
   ]
  },
  {
   "cell_type": "code",
   "execution_count": null,
   "metadata": {},
   "outputs": [],
   "source": [
    "bag = BaggingRegressor(DecisionTreeRegressor(), random_state = 0)\n",
    "\n",
    "# hyperparameter tuning on bagging\n",
    "paramGrid = ParameterGrid({\n",
    "    'max_features': [10,15,20],\n",
    "    'n_estimators' : [5,10,15,20],\n",
    "    })\n",
    "    \n",
    "best_model, best_score, all_models, all_scores = pf.bestFit(bag, paramGrid, X_train, y_train, X_val, y_val, metric=mean_squared_error, greater_is_better=False, scoreLabel='MSE')\n",
    "    \n",
    "print(best_model)"
   ]
  },
  {
   "cell_type": "code",
   "execution_count": 40,
   "metadata": {},
   "outputs": [
    {
     "name": "stdout",
     "output_type": "stream",
     "text": [
      "-------------FITTING MODELS-------------\n"
     ]
    },
    {
     "name": "stderr",
     "output_type": "stream",
     "text": [
      "[Parallel(n_jobs=-1)]: Using backend LokyBackend with 4 concurrent workers.\n",
      "[Parallel(n_jobs=-1)]: Done   2 out of   8 | elapsed:   13.6s remaining:   41.0s\n",
      "[Parallel(n_jobs=-1)]: Done   3 out of   8 | elapsed:   13.6s remaining:   22.8s\n",
      "[Parallel(n_jobs=-1)]: Done   4 out of   8 | elapsed:   18.5s remaining:   18.5s\n",
      "[Parallel(n_jobs=-1)]: Done   5 out of   8 | elapsed:   23.0s remaining:   13.8s\n",
      "[Parallel(n_jobs=-1)]: Done   6 out of   8 | elapsed:   23.6s remaining:    7.8s\n",
      "[Parallel(n_jobs=-1)]: Done   8 out of   8 | elapsed:   32.7s remaining:    0.0s\n",
      "[Parallel(n_jobs=-1)]: Done   8 out of   8 | elapsed:   32.7s finished\n",
      "[Parallel(n_jobs=-1)]: Using backend LokyBackend with 4 concurrent workers.\n"
     ]
    },
    {
     "name": "stdout",
     "output_type": "stream",
     "text": [
      "-------------SCORING MODELS-------------\n"
     ]
    },
    {
     "name": "stderr",
     "output_type": "stream",
     "text": [
      "[Parallel(n_jobs=-1)]: Done   8 out of   8 | elapsed:    0.6s finished\n"
     ]
    },
    {
     "data": {
      "image/png": "[encoded data removed]",
      "text/plain": [
       "<Figure size 216x144 with 2 Axes>"
      ]
     },
     "metadata": {},
     "output_type": "display_data"
    },
    {
     "name": "stdout",
     "output_type": "stream",
     "text": [
      "AdaBoostRegressor(base_estimator=DecisionTreeRegressor(criterion='mse', max_depth=None, max_features=None,\n",
      "           max_leaf_nodes=None, min_impurity_decrease=0.0,\n",
      "           min_impurity_split=None, min_samples_leaf=1,\n",
      "           min_samples_split=2, min_weight_fraction_leaf=0.0,\n",
      "           presort=False, random_state=None, splitter='best'),\n",
      "         learning_rate=0.1, loss='linear', n_estimators=20, random_state=0)\n"
     ]
    }
   ],
   "source": [
    "boost = AdaBoostRegressor(DecisionTreeRegressor(), random_state = 0)\n",
    "\n",
    "# hyperparameter tuning on Boosting\n",
    "paramGrid = ParameterGrid({\n",
    "    'learning_rate': [0.1,0.01],\n",
    "    'n_estimators' : [5,10,15,20],\n",
    "    })\n",
    "    \n",
    "best_model, best_score, all_models, all_scores = pf.bestFit(boost, paramGrid, X_train, y_train, X_val, y_val, metric=mean_squared_error, greater_is_better=False, scoreLabel='MSE')\n",
    "    \n",
    "print(best_model)"
   ]
  },
  {
   "cell_type": "code",
   "execution_count": null,
   "metadata": {},
   "outputs": [],
   "source": []
  },
  {
   "cell_type": "markdown",
   "metadata": {},
   "source": [
    "## STACKING"
   ]
  },
  {
   "cell_type": "code",
   "execution_count": null,
   "metadata": {},
   "outputs": [],
   "source": [
    "# take most optimized model for stacking\n",
    "rf = RandomForestRegressor(bootstrap=True, criterion='mse', max_depth=15,\n",
    "           max_features='auto', max_leaf_nodes=None,\n",
    "           min_impurity_decrease=0.0, min_impurity_split=None,\n",
    "           min_samples_leaf=3, min_samples_split=2,\n",
    "           min_weight_fraction_leaf=0.0, n_estimators=20, n_jobs=1,\n",
    "           oob_score=False, random_state=0, verbose=0, warm_start=False)\n",
    "\n",
    "bag = BaggingRegressor(base_estimator=DecisionTreeRegressor(criterion='mse', max_depth=None, max_features=None,\n",
    "           max_leaf_nodes=None, min_impurity_decrease=0.0,\n",
    "           min_impurity_split=None, min_samples_leaf=1,\n",
    "           min_samples_split=2, min_weight_fraction_leaf=0.0,\n",
    "           presort=False, random_state=None, splitter='best'),\n",
    "         bootstrap=True, bootstrap_features=False, max_features=20,\n",
    "         max_samples=1.0, n_estimators=20, n_jobs=1, oob_score=False,\n",
    "         random_state=0, verbose=0, warm_start=False)\n",
    "\n",
    "boost = AdaBoostRegressor(base_estimator=DecisionTreeRegressor(criterion='mse', max_depth=None, max_features=None,\n",
    "           max_leaf_nodes=None, min_impurity_decrease=0.0,\n",
    "           min_impurity_split=None, min_samples_leaf=1,\n",
    "           min_samples_split=2, min_weight_fraction_leaf=0.0,\n",
    "           presort=False, random_state=None, splitter='best'),\n",
    "         learning_rate=0.1, loss='linear', n_estimators=20, random_state=0)\n",
    "\n",
    "lr = linear_model.LinearRegression(copy_X=True, fit_intercept=True, n_jobs=1, normalize=False)\n",
    "\n",
    "rf.fit(X_train, y_train)\n",
    "bag.fit(X_train, y_train)\n",
    "boost.fit(X_train, y_train)\n",
    "lr.fit(X_train, y_train)"
   ]
  },
  {
   "cell_type": "code",
   "execution_count": 82,
   "metadata": {},
   "outputs": [],
   "source": [
    "# print('mse level2: ', mean_squared_error(y_val, lr.predict(X_val)))\n",
    "# print('r2_score: ' , r2_score(y_val, lr.predict(X_val)))"
   ]
  },
  {
   "cell_type": "code",
   "execution_count": null,
   "metadata": {},
   "outputs": [],
   "source": [
    "# stores 4 models prediction in dataframe for training\n",
    "level1pred = pd.DataFrame()\n",
    "level1pred['Ticker'] = X_train['Ticker']\n",
    "level1pred['RF'] = rf.predict(X_train)\n",
    "level1pred['bag'] = bag.predict(X_train)\n",
    "level1pred['boost'] = boost.predict(X_train)\n",
    "level1pred['lr'] = lr.predict(X_train)"
   ]
  },
  {
   "cell_type": "code",
   "execution_count": 103,
   "metadata": {},
   "outputs": [
    {
     "name": "stdout",
     "output_type": "stream",
     "text": [
      "mse level2:  0.0013289659129960192\n",
      "r2_score:  0.9995851890466074\n"
     ]
    }
   ],
   "source": [
    "# create linear regression 2 for stacking\n",
    "rf2 = RandomForestRegressor()\n",
    "rf2.fit(level1pred, y_train)\n",
    "\n",
    "print('mse level2: ', mean_squared_error(y_train, rf2.predict(level1pred)))\n",
    "print('r2_score: ' , r2_score(y_train, rf2.predict(level1pred)))"
   ]
  },
  {
   "cell_type": "code",
   "execution_count": 105,
   "metadata": {},
   "outputs": [
    {
     "name": "stdout",
     "output_type": "stream",
     "text": [
      "mse level2:  1.1225206672541146\n",
      "r2_score:  0.6511375083601091\n"
     ]
    }
   ],
   "source": [
    "# stores 4 models prediction in dataframe\n",
    "level1predval = pd.DataFrame()\n",
    "level1predval['Ticker'] = X_val['Ticker']\n",
    "level1predval['RF'] = rf.predict(X_val)\n",
    "level1predval['bag'] = bag.predict(X_val)\n",
    "level1predval['boost'] = boost.predict(X_val)\n",
    "level1predval['lr'] = lr.predict(X_val)\n",
    "\n",
    "rf2.predict(level1predval)\n",
    "print('mse level2: ', mean_squared_error(y_val, rf2.predict(level1predval)))\n",
    "print('r2_score: ' , r2_score(y_val, rf2.predict(level1predval)))"
   ]
  },
  {
   "cell_type": "code",
   "execution_count": 106,
   "metadata": {},
   "outputs": [],
   "source": [
    "X_val_appl = X_val.loc[X_val['Ticker'] == 0, :]\n",
    "y_val_appl = y_val[X_val_appl.index]\n",
    "\n",
    "level1predval_aapl = level1predval.loc[level1predval['Ticker'] == 0, :]"
   ]
  },
  {
   "cell_type": "code",
   "execution_count": null,
   "metadata": {},
   "outputs": [],
   "source": []
  },
  {
   "cell_type": "code",
   "execution_count": 107,
   "metadata": {},
   "outputs": [
    {
     "data": {
      "image/png": "[encoded data removed]",
      "text/plain": [
       "<Figure size 1080x720 with 1 Axes>"
      ]
     },
     "metadata": {},
     "output_type": "display_data"
    }
   ],
   "source": [
    "plt.plot(range(0,len(y_val_appl)), y_val_appl, color = 'r', label = 'actual')\n",
    "plt.plot(range(0,len(y_val_appl)), lr2.predict(level1predval_aapl), color = 'b', label = 'predicted')\n",
    "plt.legend()\n",
    "\n",
    "plt.xlabel('index')\n",
    "plt.ylabel('% return')\n",
    "\n",
    "plt.savefig('foo.png')\n",
    "plt.show()"
   ]
  }
 ],
 "metadata": {
  "kernelspec": {
   "display_name": "Python 3",
   "language": "python",
   "name": "python3"
  },
  "language_info": {
   "codemirror_mode": {
    "name": "ipython",
    "version": 3
   },
   "file_extension": ".py",
   "mimetype": "text/x-python",
   "name": "python",
   "nbconvert_exporter": "python",
   "pygments_lexer": "ipython3",
   "version": "3.6.6"
  }
 },
 "nbformat": 4,
 "nbformat_minor": 2
}
