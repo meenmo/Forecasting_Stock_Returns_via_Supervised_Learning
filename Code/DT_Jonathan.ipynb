{
 "cells": [
  {
   "cell_type": "code",
   "execution_count": null,
   "metadata": {},
   "outputs": [],
   "source": [
    "df_features['date'] = pd.to_datetime(df_features['date'])\n",
    "df_features.head()"
   ]
  },
  {
   "cell_type": "code",
   "execution_count": null,
   "metadata": {},
   "outputs": [],
   "source": [
    "a = df_features.loc[df_features.loc[:,'Ticker'] == 'AAL', ['date', 'close']]\n",
    "a.plot(x = 'date', y = 'close')\n",
    "plt.show()"
   ]
  },
  {
   "cell_type": "code",
   "execution_count": null,
   "metadata": {},
   "outputs": [],
   "source": [
    "from sklearn.ensemble import RandomForestRegressor\n",
    "import pandas as pd\n",
    "\n",
    "X_train = df_features.loc[(df_features['date'] < '2016-01-01'),:]\n",
    "y_train = X_train['close']\n",
    "X_train.drop(['close'], axis = 1, inplace = True)\n",
    "\n",
    "X_test = df_features.loc[(df_features['date'] > '2015-12-31'), :]\n",
    "y_test = X_test['close']\n",
    "X_test.drop(['close'], axis = 1, inplace = True)\n",
    "\n",
    "#X_train.head()\n",
    "X_train.head()"
   ]
  },
  {
   "cell_type": "code",
   "execution_count": null,
   "metadata": {},
   "outputs": [],
   "source": [
    "mod = RandomForestRegressor()\n",
    "mod.fit(X_train, y_train)"
   ]
  }
 ],
 "metadata": {
  "kernelspec": {
   "display_name": "Python 3",
   "language": "python",
   "name": "python3"
  },
  "language_info": {
   "codemirror_mode": {
    "name": "ipython",
    "version": 3
   },
   "file_extension": ".py",
   "mimetype": "text/x-python",
   "name": "python",
   "nbconvert_exporter": "python",
   "pygments_lexer": "ipython3",
   "version": "3.6.6"
  }
 },
 "nbformat": 4,
 "nbformat_minor": 2
}
